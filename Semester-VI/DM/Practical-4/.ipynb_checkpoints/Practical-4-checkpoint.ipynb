{
 "cells": [
  {
   "cell_type": "markdown",
   "id": "309fc6e5",
   "metadata": {},
   "source": [
    "# Data Mining Practical-4\n",
    " \n",
    "Name - **Harsh Bamotra** <br>\n",
    "Roll No. - **AC-1216** <br>\n",
    "Course - **BSc. (H) Computer Science**"
   ]
  },
  {
   "cell_type": "markdown",
   "id": "684668fb",
   "metadata": {},
   "source": [
    "**Importing required libraries**"
   ]
  },
  {
   "cell_type": "code",
   "execution_count": 3,
   "id": "c3ab1764",
   "metadata": {},
   "outputs": [],
   "source": [
    "import numpy as np\n",
    "import pandas as pd\n",
    "from mlxtend.frequent_patterns import apriori\n",
    "from mlxtend.frequent_patterns import association_rules"
   ]
  },
  {
   "cell_type": "markdown",
   "id": "485159df",
   "metadata": {},
   "source": [
    "### *Q. Run Apriori algorithm to find frequent itemsets and association rules :- <br><br>1. Use minimum support as 50% and minimum confidence as 75%.*"
   ]
  },
  {
   "cell_type": "markdown",
   "id": "c4c93027",
   "metadata": {},
   "source": [
    "**Reading data from csv file**"
   ]
  },
  {
   "cell_type": "code",
   "execution_count": 4,
   "id": "b075b203",
   "metadata": {
    "scrolled": true
   },
   "outputs": [
    {
     "data": {
      "text/html": [
       "<div>\n",
       "<style scoped>\n",
       "    .dataframe tbody tr th:only-of-type {\n",
       "        vertical-align: middle;\n",
       "    }\n",
       "\n",
       "    .dataframe tbody tr th {\n",
       "        vertical-align: top;\n",
       "    }\n",
       "\n",
       "    .dataframe thead th {\n",
       "        text-align: right;\n",
       "    }\n",
       "</style>\n",
       "<table border=\"1\" class=\"dataframe\">\n",
       "  <thead>\n",
       "    <tr style=\"text-align: right;\">\n",
       "      <th></th>\n",
       "      <th>Items</th>\n",
       "    </tr>\n",
       "  </thead>\n",
       "  <tbody>\n",
       "    <tr>\n",
       "      <th>0</th>\n",
       "      <td>citrus fruit,semi-finished bread,margarine,rea...</td>\n",
       "    </tr>\n",
       "    <tr>\n",
       "      <th>1</th>\n",
       "      <td>tropical fruit,yogurt,coffee</td>\n",
       "    </tr>\n",
       "    <tr>\n",
       "      <th>2</th>\n",
       "      <td>whole milk</td>\n",
       "    </tr>\n",
       "    <tr>\n",
       "      <th>3</th>\n",
       "      <td>pip fruit,yogurt,cream cheese ,meat spreads</td>\n",
       "    </tr>\n",
       "    <tr>\n",
       "      <th>4</th>\n",
       "      <td>other vegetables,whole milk,condensed milk,lon...</td>\n",
       "    </tr>\n",
       "  </tbody>\n",
       "</table>\n",
       "</div>"
      ],
      "text/plain": [
       "                                               Items\n",
       "0  citrus fruit,semi-finished bread,margarine,rea...\n",
       "1                       tropical fruit,yogurt,coffee\n",
       "2                                         whole milk\n",
       "3        pip fruit,yogurt,cream cheese ,meat spreads\n",
       "4  other vegetables,whole milk,condensed milk,lon..."
      ]
     },
     "execution_count": 4,
     "metadata": {},
     "output_type": "execute_result"
    }
   ],
   "source": [
    "df = pd.read_csv('groceries.csv') \n",
    "df.head(5)"
   ]
  },
  {
   "cell_type": "markdown",
   "id": "cef7c6a6",
   "metadata": {},
   "source": [
    "**Dropping irrelevent columns**"
   ]
  },
  {
   "cell_type": "code",
   "execution_count": null,
   "id": "c496243c",
   "metadata": {},
   "outputs": [],
   "source": [
    "df.drop(['Customer ID'],inplace=True,axis=1)"
   ]
  },
  {
   "cell_type": "markdown",
   "id": "c412e977",
   "metadata": {},
   "source": [
    "**Calculating frequent items using minimum support as 50%**"
   ]
  },
  {
   "cell_type": "code",
   "execution_count": null,
   "id": "b109c21b",
   "metadata": {},
   "outputs": [],
   "source": [
    "freq_items = apriori(df, min_support=0.5,use_colnames=True) \n",
    "freq_items"
   ]
  },
  {
   "cell_type": "markdown",
   "id": "7f7f4efa",
   "metadata": {},
   "source": [
    "**Calculating association rule using minimum confidence as 75%**"
   ]
  },
  {
   "cell_type": "code",
   "execution_count": null,
   "id": "f015714f",
   "metadata": {},
   "outputs": [],
   "source": [
    "association_rules(freq_items, metric=\"confidence\", min_threshold=0.75)"
   ]
  },
  {
   "cell_type": "markdown",
   "id": "157e6c6b",
   "metadata": {},
   "source": [
    "### *2. Use minimum support as 60% and minimum confidence as 60 %.*"
   ]
  },
  {
   "cell_type": "markdown",
   "id": "b97ba69a",
   "metadata": {},
   "source": [
    "**Reading data from csv file**"
   ]
  },
  {
   "cell_type": "code",
   "execution_count": null,
   "id": "e084e452",
   "metadata": {},
   "outputs": [],
   "source": [
    "df2 = pd.read_csv('grocery_data2.csv') \n",
    "df2.head(5)"
   ]
  },
  {
   "cell_type": "markdown",
   "id": "e108dc1c",
   "metadata": {},
   "source": [
    "**Dropping irrelevent columns**"
   ]
  },
  {
   "cell_type": "code",
   "execution_count": null,
   "id": "364500ab",
   "metadata": {},
   "outputs": [],
   "source": [
    "df2.drop(['id'],inplace=True,axis=1)"
   ]
  },
  {
   "cell_type": "markdown",
   "id": "5dd2aad4",
   "metadata": {},
   "source": [
    "**Calculating frequent items using minimum support as 60%**"
   ]
  },
  {
   "cell_type": "code",
   "execution_count": null,
   "id": "4b4031bd",
   "metadata": {},
   "outputs": [],
   "source": [
    "freq_items2 = apriori(df2, min_support=0.6,use_colnames=True) \n",
    "freq_items2"
   ]
  },
  {
   "cell_type": "markdown",
   "id": "97771453",
   "metadata": {},
   "source": [
    "**Calculating association rule using minimum confidence as 60%**"
   ]
  },
  {
   "cell_type": "code",
   "execution_count": null,
   "id": "f820785b",
   "metadata": {},
   "outputs": [],
   "source": [
    "association_rules(freq_items2, metric=\"confidence\", min_threshold=0.6)"
   ]
  }
 ],
 "metadata": {
  "kernelspec": {
   "display_name": "Python 3 (ipykernel)",
   "language": "python",
   "name": "python3"
  },
  "language_info": {
   "codemirror_mode": {
    "name": "ipython",
    "version": 3
   },
   "file_extension": ".py",
   "mimetype": "text/x-python",
   "name": "python",
   "nbconvert_exporter": "python",
   "pygments_lexer": "ipython3",
   "version": "3.9.6"
  }
 },
 "nbformat": 4,
 "nbformat_minor": 5
}
