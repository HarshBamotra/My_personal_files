{
 "cells": [
  {
   "cell_type": "markdown",
   "id": "edd93fdd",
   "metadata": {},
   "source": [
    "# Data Mining Practical-2\n",
    "\n",
    "Name - **Harsh Bamotra** <br>\n",
    "Roll No. - **AC-1216** <br>\n",
    "Course - **BSc. (H) Computer Science**"
   ]
  },
  {
   "cell_type": "code",
   "execution_count": 1,
   "id": "a9294314",
   "metadata": {},
   "outputs": [],
   "source": [
    "import pandas as pd\n",
    "import numpy as np\n",
    "import matplotlib.pyplot as plt\n",
    "import ruleset as rlt "
   ]
  },
  {
   "cell_type": "markdown",
   "id": "da2e5e82",
   "metadata": {},
   "source": [
    "### Perform the following preprocessing tasks on the dirty_iris dataset :-"
   ]
  },
  {
   "cell_type": "code",
   "execution_count": 2,
   "id": "c1214257",
   "metadata": {},
   "outputs": [
    {
     "data": {
      "text/html": [
       "<div>\n",
       "<style scoped>\n",
       "    .dataframe tbody tr th:only-of-type {\n",
       "        vertical-align: middle;\n",
       "    }\n",
       "\n",
       "    .dataframe tbody tr th {\n",
       "        vertical-align: top;\n",
       "    }\n",
       "\n",
       "    .dataframe thead th {\n",
       "        text-align: right;\n",
       "    }\n",
       "</style>\n",
       "<table border=\"1\" class=\"dataframe\">\n",
       "  <thead>\n",
       "    <tr style=\"text-align: right;\">\n",
       "      <th></th>\n",
       "      <th>Sepal.Length</th>\n",
       "      <th>Sepal.Width</th>\n",
       "      <th>Petal.Length</th>\n",
       "      <th>Petal.Width</th>\n",
       "      <th>Species</th>\n",
       "    </tr>\n",
       "  </thead>\n",
       "  <tbody>\n",
       "    <tr>\n",
       "      <th>1</th>\n",
       "      <td>5.1</td>\n",
       "      <td>3.5</td>\n",
       "      <td>1.4</td>\n",
       "      <td>0.2</td>\n",
       "      <td>Setosa</td>\n",
       "    </tr>\n",
       "    <tr>\n",
       "      <th>2</th>\n",
       "      <td>4.9</td>\n",
       "      <td>3.0</td>\n",
       "      <td>1.4</td>\n",
       "      <td>0.2</td>\n",
       "      <td>setosa</td>\n",
       "    </tr>\n",
       "    <tr>\n",
       "      <th>3</th>\n",
       "      <td>4.7</td>\n",
       "      <td>3.2</td>\n",
       "      <td>1.3</td>\n",
       "      <td>0.2</td>\n",
       "      <td>setosa</td>\n",
       "    </tr>\n",
       "    <tr>\n",
       "      <th>4</th>\n",
       "      <td>4.6</td>\n",
       "      <td>3.1</td>\n",
       "      <td>1.5</td>\n",
       "      <td>0.2</td>\n",
       "      <td>setosa</td>\n",
       "    </tr>\n",
       "    <tr>\n",
       "      <th>5</th>\n",
       "      <td>NaN</td>\n",
       "      <td>3.6</td>\n",
       "      <td>1.4</td>\n",
       "      <td>0.2</td>\n",
       "      <td>setosa</td>\n",
       "    </tr>\n",
       "    <tr>\n",
       "      <th>6</th>\n",
       "      <td>5.4</td>\n",
       "      <td>NaN</td>\n",
       "      <td>1.7</td>\n",
       "      <td>0.4</td>\n",
       "      <td>setosa</td>\n",
       "    </tr>\n",
       "    <tr>\n",
       "      <th>7</th>\n",
       "      <td>4.6</td>\n",
       "      <td>3.4</td>\n",
       "      <td>1.4</td>\n",
       "      <td>0.3</td>\n",
       "      <td>setosa</td>\n",
       "    </tr>\n",
       "    <tr>\n",
       "      <th>8</th>\n",
       "      <td>5.0</td>\n",
       "      <td>3.4</td>\n",
       "      <td>1.5</td>\n",
       "      <td>0.2</td>\n",
       "      <td>SETOSA</td>\n",
       "    </tr>\n",
       "    <tr>\n",
       "      <th>9</th>\n",
       "      <td>4.4</td>\n",
       "      <td>2.9</td>\n",
       "      <td>1.4</td>\n",
       "      <td>0.2</td>\n",
       "      <td>setosa</td>\n",
       "    </tr>\n",
       "    <tr>\n",
       "      <th>10</th>\n",
       "      <td>4.9</td>\n",
       "      <td>NaN</td>\n",
       "      <td>1.5</td>\n",
       "      <td>0.1</td>\n",
       "      <td>setosa</td>\n",
       "    </tr>\n",
       "  </tbody>\n",
       "</table>\n",
       "</div>"
      ],
      "text/plain": [
       "    Sepal.Length  Sepal.Width  Petal.Length  Petal.Width Species\n",
       "1            5.1          3.5           1.4          0.2  Setosa\n",
       "2            4.9          3.0           1.4          0.2  setosa\n",
       "3            4.7          3.2           1.3          0.2  setosa\n",
       "4            4.6          3.1           1.5          0.2  setosa\n",
       "5            NaN          3.6           1.4          0.2  setosa\n",
       "6            5.4          NaN           1.7          0.4  setosa\n",
       "7            4.6          3.4           1.4          0.3  setosa\n",
       "8            5.0          3.4           1.5          0.2  SETOSA\n",
       "9            4.4          2.9           1.4          0.2  setosa\n",
       "10           4.9          NaN           1.5          0.1  setosa"
      ]
     },
     "execution_count": 2,
     "metadata": {},
     "output_type": "execute_result"
    }
   ],
   "source": [
    "df = pd.read_csv(\"iris_dirty.csv\", index_col = 0)\n",
    "df.head(10)"
   ]
  },
  {
   "cell_type": "markdown",
   "id": "4bdc8310",
   "metadata": {},
   "source": [
    "**1. Calculate the number and percentage of observations that are complete.**"
   ]
  },
  {
   "cell_type": "code",
   "execution_count": 3,
   "id": "640ae63f",
   "metadata": {},
   "outputs": [
    {
     "name": "stdout",
     "output_type": "stream",
     "text": [
      "Total number of complete observations = 131\n",
      "Percentage of complete observations = 87.33333333333333 %\n"
     ]
    }
   ],
   "source": [
    "com = df.copy()\n",
    "com.dropna(inplace = True)\n",
    "print(\"Total number of complete observations = {}\".format(len(com)))\n",
    "print(\"Percentage of complete observations = {} %\".format(float(len(com)/len(df))*100))"
   ]
  },
  {
   "cell_type": "markdown",
   "id": "f23d8eee",
   "metadata": {},
   "source": [
    "**2. Replace all the special values in data with NA.**"
   ]
  },
  {
   "cell_type": "code",
   "execution_count": 4,
   "id": "ed27eec7",
   "metadata": {
    "scrolled": false
   },
   "outputs": [
    {
     "data": {
      "text/html": [
       "<div>\n",
       "<style scoped>\n",
       "    .dataframe tbody tr th:only-of-type {\n",
       "        vertical-align: middle;\n",
       "    }\n",
       "\n",
       "    .dataframe tbody tr th {\n",
       "        vertical-align: top;\n",
       "    }\n",
       "\n",
       "    .dataframe thead th {\n",
       "        text-align: right;\n",
       "    }\n",
       "</style>\n",
       "<table border=\"1\" class=\"dataframe\">\n",
       "  <thead>\n",
       "    <tr style=\"text-align: right;\">\n",
       "      <th></th>\n",
       "      <th>Sepal.Length</th>\n",
       "      <th>Sepal.Width</th>\n",
       "      <th>Petal.Length</th>\n",
       "      <th>Petal.Width</th>\n",
       "      <th>Species</th>\n",
       "    </tr>\n",
       "  </thead>\n",
       "  <tbody>\n",
       "    <tr>\n",
       "      <th>1</th>\n",
       "      <td>5.1</td>\n",
       "      <td>3.5</td>\n",
       "      <td>1.4</td>\n",
       "      <td>0.2</td>\n",
       "      <td>Setosa</td>\n",
       "    </tr>\n",
       "    <tr>\n",
       "      <th>2</th>\n",
       "      <td>4.9</td>\n",
       "      <td>3.0</td>\n",
       "      <td>1.4</td>\n",
       "      <td>0.2</td>\n",
       "      <td>setosa</td>\n",
       "    </tr>\n",
       "    <tr>\n",
       "      <th>3</th>\n",
       "      <td>4.7</td>\n",
       "      <td>3.2</td>\n",
       "      <td>1.3</td>\n",
       "      <td>0.2</td>\n",
       "      <td>setosa</td>\n",
       "    </tr>\n",
       "    <tr>\n",
       "      <th>4</th>\n",
       "      <td>4.6</td>\n",
       "      <td>3.1</td>\n",
       "      <td>1.5</td>\n",
       "      <td>0.2</td>\n",
       "      <td>setosa</td>\n",
       "    </tr>\n",
       "    <tr>\n",
       "      <th>5</th>\n",
       "      <td>NaN</td>\n",
       "      <td>3.6</td>\n",
       "      <td>1.4</td>\n",
       "      <td>0.2</td>\n",
       "      <td>setosa</td>\n",
       "    </tr>\n",
       "    <tr>\n",
       "      <th>6</th>\n",
       "      <td>5.4</td>\n",
       "      <td>NaN</td>\n",
       "      <td>1.7</td>\n",
       "      <td>0.4</td>\n",
       "      <td>setosa</td>\n",
       "    </tr>\n",
       "    <tr>\n",
       "      <th>7</th>\n",
       "      <td>4.6</td>\n",
       "      <td>3.4</td>\n",
       "      <td>1.4</td>\n",
       "      <td>0.3</td>\n",
       "      <td>setosa</td>\n",
       "    </tr>\n",
       "    <tr>\n",
       "      <th>8</th>\n",
       "      <td>5.0</td>\n",
       "      <td>3.4</td>\n",
       "      <td>1.5</td>\n",
       "      <td>0.2</td>\n",
       "      <td>SETOSA</td>\n",
       "    </tr>\n",
       "    <tr>\n",
       "      <th>9</th>\n",
       "      <td>4.4</td>\n",
       "      <td>2.9</td>\n",
       "      <td>1.4</td>\n",
       "      <td>0.2</td>\n",
       "      <td>setosa</td>\n",
       "    </tr>\n",
       "    <tr>\n",
       "      <th>10</th>\n",
       "      <td>4.9</td>\n",
       "      <td>NaN</td>\n",
       "      <td>1.5</td>\n",
       "      <td>0.1</td>\n",
       "      <td>setosa</td>\n",
       "    </tr>\n",
       "  </tbody>\n",
       "</table>\n",
       "</div>"
      ],
      "text/plain": [
       "    Sepal.Length  Sepal.Width  Petal.Length  Petal.Width Species\n",
       "1            5.1          3.5           1.4          0.2  Setosa\n",
       "2            4.9          3.0           1.4          0.2  setosa\n",
       "3            4.7          3.2           1.3          0.2  setosa\n",
       "4            4.6          3.1           1.5          0.2  setosa\n",
       "5            NaN          3.6           1.4          0.2  setosa\n",
       "6            5.4          NaN           1.7          0.4  setosa\n",
       "7            4.6          3.4           1.4          0.3  setosa\n",
       "8            5.0          3.4           1.5          0.2  SETOSA\n",
       "9            4.4          2.9           1.4          0.2  setosa\n",
       "10           4.9          NaN           1.5          0.1  setosa"
      ]
     },
     "execution_count": 4,
     "metadata": {},
     "output_type": "execute_result"
    }
   ],
   "source": [
    "df.replace([\"?\", np.inf], np.nan, inplace = True)\n",
    "df.head(10)"
   ]
  },
  {
   "cell_type": "markdown",
   "id": "f036298c",
   "metadata": {},
   "source": [
    "**3. Define a ruleset in a separate text file and read them.**"
   ]
  },
  {
   "cell_type": "markdown",
   "id": "291b8330",
   "metadata": {},
   "source": [
    "Content of the ruleset file\n",
    "\n",
    "<pre>\n",
    "def check_species(df):\n",
    "    count = df[\"Species\"].isin([\"setosa\", \"versicolor\", \"virginica\"]).shape[0]\n",
    "    return count, \"Checking if all the species name are correct.\"\n",
    "    \n",
    "def check_positive(df):\n",
    "    col = df.columns[:-1]\n",
    "    violations = 0\n",
    "    for i in col:\n",
    "        violations += df[df[col] < 0].count()\n",
    "    return sum(violations), \"Checking if all the numerical values are positive.\"\n",
    "        \n",
    "def check_Plen(df):\n",
    "    violations = 0\n",
    "    for i in range(1, len(df)+1):\n",
    "        if(df.loc[i, \"Petal.Length\"] < 2*df.loc[i, \"Petal.Width\"]):\n",
    "            violations +=1\n",
    "    return violations, \"Checking if the petal length is twice as of it's width.\"\n",
    "    \n",
    "def check_Slen(df):\n",
    "    violations = df[df[\"Sepal.Length\"] > 30].count()\n",
    "    return sum(violations), \"Checking if the sepal lenght is valid.\"\n",
    "    \n",
    "    \n",
    "def check_SP_com(df):\n",
    "    violations = 0\n",
    "    for i in range(1, len(df)+1):\n",
    "        if(df.loc[i, \"Sepal.Length\"] < df.loc[i, \"Petal.Length\"]):\n",
    "            violations +=1\n",
    "    return violations, \"Checking if the sepal length is not longer than the petal length.\"\n",
    "<pre/>"
   ]
  },
  {
   "cell_type": "markdown",
   "id": "8351a3bd",
   "metadata": {},
   "source": [
    "**4. Determine how often each rule is broken (violatedEdits). Also summarize and plot the\n",
    "result. Find outliers in sepal length using boxplot and boxplot.stats**"
   ]
  },
  {
   "cell_type": "code",
   "execution_count": 5,
   "id": "ee295e0f",
   "metadata": {},
   "outputs": [],
   "source": [
    "rules = []\n",
    "rules.append(rlt.check_species)\n",
    "rules.append(rlt.check_positive)\n",
    "rules.append(rlt.check_Plen)\n",
    "rules.append(rlt.check_Slen)\n",
    "rules.append(rlt.check_SP_com)"
   ]
  },
  {
   "cell_type": "code",
   "execution_count": 6,
   "id": "f5f51842",
   "metadata": {},
   "outputs": [
    {
     "name": "stdout",
     "output_type": "stream",
     "text": [
      "Rule 1: Checking if all the species name are correct.\n",
      "violations:0\n",
      "Rule 2: Checking if all the numerical values are positive.\n",
      "violations:0\n",
      "Rule 3: Checking if the petal length is twice as of it's width.\n",
      "violations:0\n",
      "Rule 4: Checking if the sepal lenght is valid.\n",
      "violations:0\n",
      "Rule 5: Checking if the sepal length is not longer than the petal length.\n",
      "violations:0\n"
     ]
    }
   ],
   "source": [
    "violations = []\n",
    "rule = list(map(lambda x: \"Rule \"+str(x), range(1,len(rules)+1)))\n",
    "for i in range(len(rules)):\n",
    "    violation,desc = rules[i](df)\n",
    "    print(f\"{rule[i]}: {desc}\\nviolations:{violation}\")\n",
    "    violations.append(violation)"
   ]
  },
  {
   "cell_type": "code",
   "execution_count": 7,
   "id": "d24d776d",
   "metadata": {},
   "outputs": [
    {
     "data": {
      "image/png": "[encoded data removed]",
      "text/plain": [
       "<Figure size 640x480 with 1 Axes>"
      ]
     },
     "metadata": {},
     "output_type": "display_data"
    }
   ],
   "source": [
    "fig = plt.figure()\n",
    "fig.patch.set_facecolor('white')\n",
    "ax = fig.add_subplot()\n",
    "ax.bar(rule,violations,0.3, color = \"red\")\n",
    "plt.ylabel(\"Number of Violations\")\n",
    "plt.xlabel(\"Rules\")\n",
    "plt.title(\"Number of Rules Violated\")\n",
    "plt.show()"
   ]
  },
  {
   "cell_type": "markdown",
   "id": "67b75070",
   "metadata": {},
   "source": [
    "**5. Find outliers in sepal length using boxplot and boxplot.stats**"
   ]
  },
  {
   "cell_type": "code",
   "execution_count": 10,
   "id": "9d7123c5",
   "metadata": {},
   "outputs": [
    {
     "data": {
      "image/png": "[encoded data removed]",
      "text/plain": [
       "<Figure size 640x480 with 1 Axes>"
      ]
     },
     "metadata": {},
     "output_type": "display_data"
    }
   ],
   "source": [
    "fig = plt.figure()\n",
    "fig.patch.set_facecolor('white')\n",
    "ax = fig.add_subplot()\n",
    "ax.boxplot(df[\"Sepal.Length\"].dropna())\n",
    "plt.show()"
   ]
  }
 ],
 "metadata": {
  "kernelspec": {
   "display_name": "Python 3 (ipykernel)",
   "language": "python",
   "name": "python3"
  },
  "language_info": {
   "codemirror_mode": {
    "name": "ipython",
    "version": 3
   },
   "file_extension": ".py",
   "mimetype": "text/x-python",
   "name": "python",
   "nbconvert_exporter": "python",
   "pygments_lexer": "ipython3",
   "version": "3.10.6"
  }
 },
 "nbformat": 4,
 "nbformat_minor": 5
}
