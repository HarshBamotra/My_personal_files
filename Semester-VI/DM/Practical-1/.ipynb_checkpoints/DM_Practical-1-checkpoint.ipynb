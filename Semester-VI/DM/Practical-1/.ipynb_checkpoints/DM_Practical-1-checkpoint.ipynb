{
 "cells": [
  {
   "cell_type": "markdown",
   "metadata": {},
   "source": [
    "# Data Mining Practical-1\n",
    "\n",
    "**Name - Harsh Bamotra** <br>\n",
    "Roll No. - AC-1216 <br>\n",
    "College - Acharya Narendra Dev College <br>\n",
    "Course - B.Sc. (H) Computer Science <br><br>"
   ]
  },
  {
   "cell_type": "markdown",
   "metadata": {},
   "source": [
    "**Reading the required libraries**"
   ]
  },
  {
   "cell_type": "code",
   "execution_count": 1,
   "metadata": {},
   "outputs": [],
   "source": [
    "import numpy as np\n",
    "import pandas as pd\n",
    "import matplotlib.pyplot as plt\n",
    "import ruleset"
   ]
  },
  {
   "cell_type": "markdown",
   "metadata": {},
   "source": [
    "### Create a file “people.txt” with the data and perform the following:"
   ]
  },
  {
   "cell_type": "markdown",
   "metadata": {},
   "source": [
    "**i) Read data from file people.txt.**"
   ]
  },
  {
   "cell_type": "code",
   "execution_count": 2,
   "metadata": {
    "scrolled": true
   },
   "outputs": [
    {
     "data": {
      "text/html": [
       "<div>\n",
       "<style scoped>\n",
       "    .dataframe tbody tr th:only-of-type {\n",
       "        vertical-align: middle;\n",
       "    }\n",
       "\n",
       "    .dataframe tbody tr th {\n",
       "        vertical-align: top;\n",
       "    }\n",
       "\n",
       "    .dataframe thead th {\n",
       "        text-align: right;\n",
       "    }\n",
       "</style>\n",
       "<table border=\"1\" class=\"dataframe\">\n",
       "  <thead>\n",
       "    <tr style=\"text-align: right;\">\n",
       "      <th></th>\n",
       "      <th>Age</th>\n",
       "      <th>agegroup</th>\n",
       "      <th>height</th>\n",
       "      <th>status</th>\n",
       "      <th>yearsmarried</th>\n",
       "    </tr>\n",
       "  </thead>\n",
       "  <tbody>\n",
       "    <tr>\n",
       "      <th>0</th>\n",
       "      <td>21</td>\n",
       "      <td>adult</td>\n",
       "      <td>6.0</td>\n",
       "      <td>single</td>\n",
       "      <td>-1</td>\n",
       "    </tr>\n",
       "    <tr>\n",
       "      <th>1</th>\n",
       "      <td>2</td>\n",
       "      <td>child</td>\n",
       "      <td>3.0</td>\n",
       "      <td>married</td>\n",
       "      <td>0</td>\n",
       "    </tr>\n",
       "    <tr>\n",
       "      <th>2</th>\n",
       "      <td>18</td>\n",
       "      <td>adult</td>\n",
       "      <td>5.7</td>\n",
       "      <td>married</td>\n",
       "      <td>20</td>\n",
       "    </tr>\n",
       "    <tr>\n",
       "      <th>3</th>\n",
       "      <td>221</td>\n",
       "      <td>elderly</td>\n",
       "      <td>5.0</td>\n",
       "      <td>widowed</td>\n",
       "      <td>2</td>\n",
       "    </tr>\n",
       "    <tr>\n",
       "      <th>4</th>\n",
       "      <td>34</td>\n",
       "      <td>child</td>\n",
       "      <td>-7.0</td>\n",
       "      <td>married</td>\n",
       "      <td>3</td>\n",
       "    </tr>\n",
       "  </tbody>\n",
       "</table>\n",
       "</div>"
      ],
      "text/plain": [
       "   Age agegroup  height   status  yearsmarried\n",
       "0   21    adult     6.0   single            -1\n",
       "1    2    child     3.0  married             0\n",
       "2   18    adult     5.7  married            20\n",
       "3  221  elderly     5.0  widowed             2\n",
       "4   34    child    -7.0  married             3"
      ]
     },
     "execution_count": 2,
     "metadata": {},
     "output_type": "execute_result"
    }
   ],
   "source": [
    "df = pd.read_csv(\"people.txt\", delimiter=\" \")\n",
    "df"
   ]
  },
  {
   "cell_type": "markdown",
   "metadata": {},
   "source": [
    "**ii) Create a ruleset E that contain differrnt rules.**"
   ]
  },
  {
   "cell_type": "markdown",
   "metadata": {},
   "source": [
    "Content of the ruleset.py file imported earlier with other required libraries.\n",
    "\n",
    "<pre> def age_check(df):\n",
    "    errors = df[\"Age\"][(df[\"Age\"]>150)|(df[\"Age\"]<0)].shape[0]\n",
    "    return errors, \"Checking if age is in range 0-150\"\n",
    "    \n",
    "def age_check2(df): \n",
    "    n = df.shape[0]\n",
    "    errors = 0\n",
    "    for i in range(n):\n",
    "        if df[\"Age\"][i]<df[\"yearsmarried\"][i]:\n",
    "            errors+=1\n",
    "    return errors, \"Checking if age is greater than years married\"<pre/>\n",
    "\n",
    "<pre>def status_check(df):\n",
    "    errors = df.shape[0]-df[df[\"status\"].isin(['single','married','widowed'])].shape[0]\n",
    "    return errors, \"Checking if status contains values only from single, married,widowed\"\n",
    "\n",
    "def agegroup_check(df):\n",
    "    n = df.shape[0]\n",
    "    errors = 0\n",
    "    for i in range(n):\n",
    "        if df[\"Age\"][i]<18 and df[\"agegroup\"][i]!=\"child\":\n",
    "            errors+=1\n",
    "        elif df[\"Age\"][i]>=18 and df[\"Age\"][i]<65 and df[\"agegroup\"][i]!=\"adult\":\n",
    "            errors+=1\n",
    "        elif df[\"Age\"][i]>=65 and df[\"agegroup\"][i]!=\"elderly\":\n",
    "            errors+=1\n",
    "    return errors, \"Checking if age group lies correctly according to age\"<pre/>"
   ]
  },
  {
   "cell_type": "markdown",
   "metadata": {},
   "source": [
    "**iii) Check whether ruleset E is violated by the data in the file people.txt.**"
   ]
  },
  {
   "cell_type": "code",
   "execution_count": 3,
   "metadata": {},
   "outputs": [],
   "source": [
    "rules = []\n",
    "rules.append(ruleset.age_check)\n",
    "rules.append(ruleset.age_check2)\n",
    "rules.append(ruleset.status_check)\n",
    "rules.append(ruleset.agegroup_check)"
   ]
  },
  {
   "cell_type": "markdown",
   "metadata": {},
   "source": [
    "**iv) Summarize the results obtained.**"
   ]
  },
  {
   "cell_type": "code",
   "execution_count": 4,
   "metadata": {},
   "outputs": [
    {
     "name": "stdout",
     "output_type": "stream",
     "text": [
      "Rule 1: Checking if age is in range 0-150\n",
      "violations:1\n",
      "Rule 2: Checking if age is greater than years married\n",
      "violations:1\n",
      "Rule 3: Checking if status contains values only from single, married,widowed\n",
      "violations:0\n",
      "Rule 4: Checking if age group lies correctly according to age\n",
      "violations:1\n"
     ]
    }
   ],
   "source": [
    "violations = []\n",
    "rule = list(map(lambda x: \"Rule \"+str(x), range(1,len(rules)+1)))\n",
    "for i in range(len(rules)):\n",
    "    violation,desc = rules[i](df)\n",
    "    print(f\"{rule[i]}: {desc}\\nviolations:{violation}\")\n",
    "    violations.append(violation)"
   ]
  },
  {
   "cell_type": "markdown",
   "metadata": {},
   "source": [
    "**v) Visualize the results obtained.**"
   ]
  },
  {
   "cell_type": "code",
   "execution_count": 5,
   "metadata": {
    "scrolled": false
   },
   "outputs": [
    {
     "data": {
      "image/png": "[encoded data removed]",
      "text/plain": [
       "<Figure size 640x480 with 1 Axes>"
      ]
     },
     "metadata": {},
     "output_type": "display_data"
    }
   ],
   "source": [
    "fig = plt.figure()\n",
    "fig.patch.set_facecolor('white')\n",
    "ax = fig.add_subplot()\n",
    "ax.bar(rule,violations,0.3, color = \"red\")\n",
    "plt.ylabel(\"Number of Violations\")\n",
    "plt.xlabel(\"Rules\")\n",
    "plt.title(\"Number of Rules Violated\")\n",
    "plt.show()"
   ]
  }
 ],
 "metadata": {
  "kernelspec": {
   "display_name": "Python 3 (ipykernel)",
   "language": "python",
   "name": "python3"
  },
  "language_info": {
   "codemirror_mode": {
    "name": "ipython",
    "version": 3
   },
   "file_extension": ".py",
   "mimetype": "text/x-python",
   "name": "python",
   "nbconvert_exporter": "python",
   "pygments_lexer": "ipython3",
   "version": "3.10.6"
  },
  "vscode": {
   "interpreter": {
    "hash": "916dbcbb3f70747c44a77c7bcd40155683ae19c65e1c03b4aa3499c5328201f1"
   }
  }
 },
 "nbformat": 4,
 "nbformat_minor": 2
}
