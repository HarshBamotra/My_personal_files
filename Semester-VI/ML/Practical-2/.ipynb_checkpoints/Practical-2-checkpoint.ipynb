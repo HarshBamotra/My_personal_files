{
 "cells": [
  {
   "cell_type": "markdown",
   "id": "658ace39",
   "metadata": {},
   "source": [
    "  ## *Multiple Lenear Regression*\n",
    " \n",
    "Name - **Harsh Bamotra** <br>\n",
    "Roll No. - **AC-1216** <br>\n",
    "Course - **BSc. (H) Computer Science**"
   ]
  },
  {
   "cell_type": "markdown",
   "id": "0dd56c3e",
   "metadata": {},
   "source": [
    "**Importing required libraries**"
   ]
  },
  {
   "cell_type": "code",
   "execution_count": 19,
   "id": "cb6e771f",
   "metadata": {},
   "outputs": [],
   "source": [
    "import numpy as np\n",
    "import pandas as pd\n",
    "from sklearn.model_selection import train_test_split\n",
    "from sklearn.linear_model import LinearRegression\n",
    "from sklearn import metrics\n",
    "from sklearn.metrics import r2_score"
   ]
  },
  {
   "cell_type": "markdown",
   "id": "94f05d20",
   "metadata": {},
   "source": [
    "**Reading Dataset to perform Linear Regression**"
   ]
  },
  {
   "cell_type": "code",
   "execution_count": 3,
   "id": "028676ef",
   "metadata": {},
   "outputs": [
    {
     "data": {
      "text/html": [
       "<div>\n",
       "<style scoped>\n",
       "    .dataframe tbody tr th:only-of-type {\n",
       "        vertical-align: middle;\n",
       "    }\n",
       "\n",
       "    .dataframe tbody tr th {\n",
       "        vertical-align: top;\n",
       "    }\n",
       "\n",
       "    .dataframe thead th {\n",
       "        text-align: right;\n",
       "    }\n",
       "</style>\n",
       "<table border=\"1\" class=\"dataframe\">\n",
       "  <thead>\n",
       "    <tr style=\"text-align: right;\">\n",
       "      <th></th>\n",
       "      <th>TV</th>\n",
       "      <th>radio</th>\n",
       "      <th>newspaper</th>\n",
       "      <th>sales</th>\n",
       "    </tr>\n",
       "  </thead>\n",
       "  <tbody>\n",
       "    <tr>\n",
       "      <th>1</th>\n",
       "      <td>230.1</td>\n",
       "      <td>37.8</td>\n",
       "      <td>69.2</td>\n",
       "      <td>22.1</td>\n",
       "    </tr>\n",
       "    <tr>\n",
       "      <th>2</th>\n",
       "      <td>44.5</td>\n",
       "      <td>39.3</td>\n",
       "      <td>45.1</td>\n",
       "      <td>10.4</td>\n",
       "    </tr>\n",
       "    <tr>\n",
       "      <th>3</th>\n",
       "      <td>17.2</td>\n",
       "      <td>45.9</td>\n",
       "      <td>69.3</td>\n",
       "      <td>9.3</td>\n",
       "    </tr>\n",
       "    <tr>\n",
       "      <th>4</th>\n",
       "      <td>151.5</td>\n",
       "      <td>41.3</td>\n",
       "      <td>58.5</td>\n",
       "      <td>18.5</td>\n",
       "    </tr>\n",
       "    <tr>\n",
       "      <th>5</th>\n",
       "      <td>180.8</td>\n",
       "      <td>10.8</td>\n",
       "      <td>58.4</td>\n",
       "      <td>12.9</td>\n",
       "    </tr>\n",
       "  </tbody>\n",
       "</table>\n",
       "</div>"
      ],
      "text/plain": [
       "      TV  radio  newspaper  sales\n",
       "1  230.1   37.8       69.2   22.1\n",
       "2   44.5   39.3       45.1   10.4\n",
       "3   17.2   45.9       69.3    9.3\n",
       "4  151.5   41.3       58.5   18.5\n",
       "5  180.8   10.8       58.4   12.9"
      ]
     },
     "execution_count": 3,
     "metadata": {},
     "output_type": "execute_result"
    }
   ],
   "source": [
    "df = pd.read_csv(\"Advertising.csv\", index_col = 0)\n",
    "df.head()"
   ]
  },
  {
   "cell_type": "markdown",
   "id": "cc5ef826",
   "metadata": {},
   "source": [
    "**Dividing the dataset between dependent and independent variable**"
   ]
  },
  {
   "cell_type": "code",
   "execution_count": 7,
   "id": "8fff3027",
   "metadata": {},
   "outputs": [],
   "source": [
    "X = df.drop([\"sales\"], axis = 1)\n",
    "y = df[\"sales\"]"
   ]
  },
  {
   "cell_type": "markdown",
   "id": "7ce3e09f",
   "metadata": {},
   "source": [
    "**Dividing the data for training and testing**"
   ]
  },
  {
   "cell_type": "code",
   "execution_count": 10,
   "id": "15a36c54",
   "metadata": {},
   "outputs": [
    {
     "name": "stdout",
     "output_type": "stream",
     "text": [
      "(140, 3) (60, 3) (140,) (60,)\n"
     ]
    }
   ],
   "source": [
    "X_train, X_test, y_train, y_test = train_test_split(X, y, test_size = 0.3)\n",
    "print(X_train.shape, X_test.shape, y_train.shape, y_test.shape)"
   ]
  },
  {
   "cell_type": "markdown",
   "id": "2b746e9a",
   "metadata": {},
   "source": [
    "**Building the regression model**"
   ]
  },
  {
   "cell_type": "code",
   "execution_count": 11,
   "id": "11f8ddb5",
   "metadata": {},
   "outputs": [],
   "source": [
    "mlr = LinearRegression()"
   ]
  },
  {
   "cell_type": "markdown",
   "id": "3c6ace77",
   "metadata": {},
   "source": [
    "**Training the model and priting the value of intercept**"
   ]
  },
  {
   "cell_type": "code",
   "execution_count": 13,
   "id": "729498f3",
   "metadata": {},
   "outputs": [
    {
     "name": "stdout",
     "output_type": "stream",
     "text": [
      "2.9950160533968297\n"
     ]
    }
   ],
   "source": [
    "mlr.fit(X_train, y_train)\n",
    "print(mlr.intercept_)"
   ]
  },
  {
   "cell_type": "markdown",
   "id": "d99f23ee",
   "metadata": {},
   "source": [
    "**Printing the value of coffecients**"
   ]
  },
  {
   "cell_type": "code",
   "execution_count": 15,
   "id": "ff55898c",
   "metadata": {},
   "outputs": [
    {
     "data": {
      "text/html": [
       "<div>\n",
       "<style scoped>\n",
       "    .dataframe tbody tr th:only-of-type {\n",
       "        vertical-align: middle;\n",
       "    }\n",
       "\n",
       "    .dataframe tbody tr th {\n",
       "        vertical-align: top;\n",
       "    }\n",
       "\n",
       "    .dataframe thead th {\n",
       "        text-align: right;\n",
       "    }\n",
       "</style>\n",
       "<table border=\"1\" class=\"dataframe\">\n",
       "  <thead>\n",
       "    <tr style=\"text-align: right;\">\n",
       "      <th></th>\n",
       "      <th>Coffecients</th>\n",
       "    </tr>\n",
       "  </thead>\n",
       "  <tbody>\n",
       "    <tr>\n",
       "      <th>TV</th>\n",
       "      <td>0.044857</td>\n",
       "    </tr>\n",
       "    <tr>\n",
       "      <th>radio</th>\n",
       "      <td>0.190147</td>\n",
       "    </tr>\n",
       "    <tr>\n",
       "      <th>newspaper</th>\n",
       "      <td>0.002542</td>\n",
       "    </tr>\n",
       "  </tbody>\n",
       "</table>\n",
       "</div>"
      ],
      "text/plain": [
       "           Coffecients\n",
       "TV            0.044857\n",
       "radio         0.190147\n",
       "newspaper     0.002542"
      ]
     },
     "execution_count": 15,
     "metadata": {},
     "output_type": "execute_result"
    }
   ],
   "source": [
    "coff = pd.DataFrame(mlr.coef_, X.columns, columns = [\"Coffecients\"])\n",
    "coff"
   ]
  },
  {
   "cell_type": "markdown",
   "id": "73dfd5f2",
   "metadata": {},
   "source": [
    "Therefore now the value sales can be predicted using following : <br>\n",
    "**sales=2.880 + C*TV + C*radio + C*newspaper**\n",
    "\n",
    "For example, if we determine a budget value of 50 for TV, 30 for radio and 10 for newspaper, the estimated value of “sales” will be:"
   ]
  },
  {
   "cell_type": "code",
   "execution_count": 16,
   "id": "638376d5",
   "metadata": {},
   "outputs": [
    {
     "data": {
      "text/plain": [
       "10.967719178482824"
      ]
     },
     "execution_count": 16,
     "metadata": {},
     "output_type": "execute_result"
    }
   ],
   "source": [
    "example = [50, 30, 10]\n",
    "output = mlr.intercept_ + sum(example*mlr.coef_)\n",
    "output"
   ]
  },
  {
   "cell_type": "markdown",
   "id": "fa88b442",
   "metadata": {},
   "source": [
    "**Testing the model on unseen data**"
   ]
  },
  {
   "cell_type": "code",
   "execution_count": 17,
   "id": "82a592e5",
   "metadata": {},
   "outputs": [],
   "source": [
    "y_pred = mlr.predict(X_test)"
   ]
  },
  {
   "cell_type": "markdown",
   "id": "ff082e7c",
   "metadata": {},
   "source": [
    "**Evaluating the model using actual values**"
   ]
  },
  {
   "cell_type": "code",
   "execution_count": 20,
   "id": "899241e4",
   "metadata": {},
   "outputs": [
    {
     "name": "stdout",
     "output_type": "stream",
     "text": [
      "Mean Absolute Error: 1.4081407398924959\n",
      "Mean Squared Error: 2.946806680019364\n",
      "Root Mean Squared Error: 1.716626540637003\n",
      "R Squared Score is: 0.8851316051405744\n"
     ]
    }
   ],
   "source": [
    "print(\"Mean Absolute Error:\", metrics.mean_absolute_error(y_test, y_pred))\n",
    "print(\"Mean Squared Error:\", metrics.mean_squared_error(y_test, y_pred))\n",
    "print(\"Root Mean Squared Error:\", np.sqrt(metrics.mean_squared_error(y_test, y_pred)))\n",
    "print(\"R Squared Score is:\", r2_score(y_test, y_pred))"
   ]
  }
 ],
 "metadata": {
  "kernelspec": {
   "display_name": "Python 3 (ipykernel)",
   "language": "python",
   "name": "python3"
  },
  "language_info": {
   "codemirror_mode": {
    "name": "ipython",
    "version": 3
   },
   "file_extension": ".py",
   "mimetype": "text/x-python",
   "name": "python",
   "nbconvert_exporter": "python",
   "pygments_lexer": "ipython3",
   "version": "3.11.2"
  }
 },
 "nbformat": 4,
 "nbformat_minor": 5
}
