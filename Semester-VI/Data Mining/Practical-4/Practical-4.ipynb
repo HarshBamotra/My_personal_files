{
 "cells": [
  {
   "cell_type": "markdown",
   "id": "309fc6e5",
   "metadata": {},
   "source": [
    "# Data Mining Practical-4\n",
    " \n",
    "Name - **Harsh Bamotra** <br>\n",
    "Roll No. - **AC-1216** <br>\n",
    "Course - **BSc. (H) Computer Science**"
   ]
  },
  {
   "cell_type": "markdown",
   "id": "684668fb",
   "metadata": {},
   "source": [
    "**Importing required libraries**"
   ]
  },
  {
   "cell_type": "code",
   "execution_count": null,
   "id": "c3ab1764",
   "metadata": {},
   "outputs": [],
   "source": [
    "import numpy as np\n",
    "import pandas as pd"
   ]
  }
 ],
 "metadata": {
  "kernelspec": {
   "display_name": "Python 3 (ipykernel)",
   "language": "python",
   "name": "python3"
  },
  "language_info": {
   "codemirror_mode": {
    "name": "ipython",
    "version": 3
   },
   "file_extension": ".py",
   "mimetype": "text/x-python",
   "name": "python",
   "nbconvert_exporter": "python",
   "pygments_lexer": "ipython3",
   "version": "3.11.2"
  }
 },
 "nbformat": 4,
 "nbformat_minor": 5
}
