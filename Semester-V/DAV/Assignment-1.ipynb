{
 "cells": [
  {
   "cell_type": "markdown",
   "id": "9b7c5b2e",
   "metadata": {},
   "source": [
    "## Data Analysis and Visualisation\n",
    "\n",
    "**Name - Harsh Bamotra** <br>\n",
    "**Roll No. - AC-1216**"
   ]
  },
  {
   "cell_type": "code",
   "execution_count": 90,
   "id": "35d1ee97",
   "metadata": {},
   "outputs": [],
   "source": [
    "import numpy as np"
   ]
  },
  {
   "cell_type": "markdown",
   "id": "c6757790",
   "metadata": {},
   "source": [
    "**Q1. Given below is a dictionary having two keys ‘Boys’ and ‘Girls’ and having two lists of heights of five Boys andFive Girls respectively as values associated with these keys. Original dictionary of lists: <br><br>\n",
    "{'Boys': [72, 68, 70, 69, 74], 'Girls': [63, 65, 69, 62, 61]} <br><br>\n",
    "From the given dictionary of lists create the following list of dictionaries: <br>\n",
    "[{'Boys': 72, 'Girls': 63}, {'Boys': 68, 'Girls': 65}, {'Boys': 70, 'Girls': 69}, {'Boys': 69, 'Girls': 62}, {‘Boys’:74,‘Girls’:61]**"
   ]
  },
  {
   "cell_type": "code",
   "execution_count": 1,
   "id": "fcee7505",
   "metadata": {},
   "outputs": [],
   "source": [
    "D1 = {'Boys': [72, 68, 70, 69, 74], 'Girls': [63, 65, 69, 62, 61]}"
   ]
  },
  {
   "cell_type": "code",
   "execution_count": 7,
   "id": "ce0f6045",
   "metadata": {},
   "outputs": [
    {
     "data": {
      "text/plain": [
       "[{'Boys': 72, 'Girls': 63},\n",
       " {'Boys': 68, 'Girls': 65},\n",
       " {'Boys': 70, 'Girls': 69},\n",
       " {'Boys': 69, 'Girls': 62},\n",
       " {'Boys': 74, 'Girls': 61}]"
      ]
     },
     "execution_count": 7,
     "metadata": {},
     "output_type": "execute_result"
    }
   ],
   "source": [
    "L1 = []\n",
    "for i in range(len(D1[\"Boys\"])):\n",
    "    L1.append({'Boys':D1[\"Boys\"][i], 'Girls':D1[\"Girls\"][i]})\n",
    "L1"
   ]
  },
  {
   "cell_type": "markdown",
   "id": "e8581f54",
   "metadata": {},
   "source": [
    "**Q2. Given are three lists where L1 has names of n students, L2 has marks and L3 has hobbies   of n students.Using three lists, create the following dictionary with hobbies as keys and (names,marks) as values. In case more than one student has same hobby then values must be appended for the same key instead of overwriting.E.g.<br><br>\n",
    "L1=['A','B','C'], L2=[100,40,50] L3=['painting','music','painting']<br>\n",
    "then output should be:<br>\n",
    "dict1={painting:(('A',100),('C',50)), 'music':('B',40)}.**"
   ]
  },
  {
   "cell_type": "code",
   "execution_count": 56,
   "id": "3b491014",
   "metadata": {},
   "outputs": [],
   "source": [
    "def Hobbies(l1, l2, l3):\n",
    "    result = {}\n",
    "    for i in range(len(l1)):\n",
    "        if(l3[i] not in result):\n",
    "            result[l3[i]] = (l1[i], l2[i])\n",
    "        elif(len(result[l3[i]][0]) == 1):\n",
    "            t = result[l3[i]]\n",
    "            l = []\n",
    "            l.append(t)\n",
    "            l.append((l1[i], l2[i]))\n",
    "            result[l3[i]] = tuple(l)\n",
    "        else:\n",
    "            l = list(result[l3[i]])\n",
    "            l.append((l1[i], l2[i]))\n",
    "            result[l3[i]] = tuple(l)\n",
    "    return result"
   ]
  },
  {
   "cell_type": "code",
   "execution_count": 58,
   "id": "98745ed0",
   "metadata": {
    "scrolled": true
   },
   "outputs": [
    {
     "name": "stdout",
     "output_type": "stream",
     "text": [
      "{'painting': (('A', 100), ('C', 50), ('D', 60)), 'music': (('B', 40), ('E', 70))}\n"
     ]
    }
   ],
   "source": [
    "print(Hobbies(['A','B','C', 'D', 'E'], [100,40,50,60,70], ['painting','music','painting','painting','music']))"
   ]
  },
  {
   "cell_type": "markdown",
   "id": "396e2cb4",
   "metadata": {},
   "source": [
    "**Q3. Write  two  lambda functions <br> \n",
    "a)One to  arrange a list of names on the last letter of the name. <br>     \n",
    "i.e. names=['axc','bxbb','xxb','zzxy','zzc'] then new sorted list on last letter  is ['bxbb', 'xxb', 'axc', 'zzc', 'zzxy']**"
   ]
  },
  {
   "cell_type": "code",
   "execution_count": 77,
   "id": "e7139d0f",
   "metadata": {},
   "outputs": [
    {
     "name": "stdout",
     "output_type": "stream",
     "text": [
      "Enter the list ::['axc','bxbb','xxb','zzxy','zzc']\n",
      "The list after sorting :: ['bxbb', 'xxb', 'axc', 'zzc', 'zzxy']\n"
     ]
    }
   ],
   "source": [
    "l = eval(input(\"Enter the list ::\"))\n",
    "l.sort(key = lambda l: l[-1])\n",
    "print(\"The list after sorting ::\", l)"
   ]
  },
  {
   "cell_type": "markdown",
   "id": "502502e4",
   "metadata": {},
   "source": [
    "**b)Second lambda function arranges list on the length of names and store results in dictionary with length as key and value as names.**"
   ]
  },
  {
   "cell_type": "code",
   "execution_count": 97,
   "id": "541c403d",
   "metadata": {},
   "outputs": [
    {
     "name": "stdout",
     "output_type": "stream",
     "text": [
      "Enter the list ::['axc','bxbb','xxb','zzxy','zzc']\n",
      "The new dictonary :: {3: [<function <lambda> at 0x00000140C9248820>], 4: [<function <lambda> at 0x00000140C932F0A0>]}\n"
     ]
    }
   ],
   "source": [
    "l = eval(input(\"Enter the list ::\"))\n",
    "l.sort(key = lambda l: len(l))\n",
    "d = {}\n",
    "for i in range(len(l)):\n",
    "    d[len(l[i])] = [lambda l: l[i] if(len(l[i]) not in d) else list(d[len(l[i])]).append(l[i])]\n",
    "print(\"The new dictonary ::\", d)"
   ]
  },
  {
   "cell_type": "markdown",
   "id": "ac7ce539",
   "metadata": {},
   "source": [
    "**Q4. Write programs in Python using NumPy library to do the following: <br>\n",
    "a) Compute the mean, standard deviation, and variance of a two dimensional random integer array along the second axis.**"
   ]
  },
  {
   "cell_type": "code",
   "execution_count": 96,
   "id": "2b74f470",
   "metadata": {},
   "outputs": [
    {
     "name": "stdout",
     "output_type": "stream",
     "text": [
      "Mean :: [1. 4. 7.]\n",
      "Standard deviation :: [0.81649658 0.81649658 0.81649658]\n",
      "Variance :: [0.66666667 0.66666667 0.66666667]\n"
     ]
    }
   ],
   "source": [
    "arr = np.arange(9).reshape(3, 3)\n",
    "print(\"Mean ::\", np.mean(arr, axis = 1))\n",
    "print(\"Standard deviation ::\", np.std(arr, axis = 1))\n",
    "print(\"Variance ::\", np.var(arr, axis = 1))"
   ]
  },
  {
   "cell_type": "markdown",
   "id": "591393ff",
   "metadata": {},
   "source": [
    "**b) Get the indices of the sorted elements of a given array.<br>B= [56, 48, 22, 41, 78, 91, 24, 46, 8, 33]**"
   ]
  },
  {
   "cell_type": "code",
   "execution_count": 101,
   "id": "ef0af108",
   "metadata": {},
   "outputs": [
    {
     "name": "stdout",
     "output_type": "stream",
     "text": [
      "The indices of the sorted list are :: [8 2 6 9 3 7 1 0 4 5]\n"
     ]
    }
   ],
   "source": [
    "B = [56, 48, 22, 41, 78, 91, 24, 46, 8, 33]\n",
    "print(\"The indices of the sorted list are ::\", np.argsort(B))"
   ]
  },
  {
   "cell_type": "markdown",
   "id": "ae5869d8",
   "metadata": {},
   "source": [
    "**c) Create a 2-dimensional array of size m x n integer elements, also print the shape, type and datatype of the array and then reshape it into nx m array, n and m are user inputs given at the run time.**"
   ]
  },
  {
   "cell_type": "code",
   "execution_count": 107,
   "id": "83cf7cf8",
   "metadata": {},
   "outputs": [
    {
     "name": "stdout",
     "output_type": "stream",
     "text": [
      "Enter the value of n ::4\n",
      "Enter the value of m ::5\n",
      "The random array :\n",
      " [[ 0  1  2  3  4]\n",
      " [ 5  6  7  8  9]\n",
      " [10 11 12 13 14]\n",
      " [15 16 17 18 19]]\n",
      "Shape :: (4, 5) \n",
      "Type :: <class 'numpy.ndarray'> \n",
      "Datatype :: <class 'numpy.int32'>\n"
     ]
    }
   ],
   "source": [
    "n = int(input(\"Enter the value of n ::\"))\n",
    "m = int(input(\"Enter the value of m ::\"))\n",
    "arr = np.arange(n*m).reshape(n, m)\n",
    "print(\"The random array :\\n\", arr)\n",
    "print(\"Shape ::\", arr.shape, \"\\nType ::\", type(arr), \"\\nDatatype ::\", type(arr[0][0]))"
   ]
  },
  {
   "cell_type": "code",
   "execution_count": 110,
   "id": "9467bc00",
   "metadata": {},
   "outputs": [
    {
     "name": "stdout",
     "output_type": "stream",
     "text": [
      "The array after reshaping ::\n",
      " [[ 0  1  2  3]\n",
      " [ 4  5  6  7]\n",
      " [ 8  9 10 11]\n",
      " [12 13 14 15]\n",
      " [16 17 18 19]]\n"
     ]
    }
   ],
   "source": [
    "arr = arr.reshape(m, n)\n",
    "print(\"The array after reshaping ::\\n\", arr)"
   ]
  },
  {
   "cell_type": "markdown",
   "id": "3c3c5f1a",
   "metadata": {},
   "source": [
    "**d) Test whether the elements of a given array are zero, non-zero and NaN. Record the indices of these elements in three separate arrays.**"
   ]
  },
  {
   "cell_type": "code",
   "execution_count": 113,
   "id": "b199afb3",
   "metadata": {},
   "outputs": [
    {
     "name": "stdout",
     "output_type": "stream",
     "text": [
      "Enter the array ::[1, 2, 0, 6, 0, None]\n",
      "Indices of zero elements :: [2, 4] \n",
      "Indices of non-zero elements :: [0, 1, 3] \n",
      "Indices of NaN elements :: [5]\n"
     ]
    }
   ],
   "source": [
    "arr = eval(input(\"Enter the array ::\"))\n",
    "Zero =[]\n",
    "Non_Zero = [] \n",
    "NAN = []\n",
    "for i in range(len(arr)):\n",
    "    if(arr[i] == 0):\n",
    "        Zero.append(i)\n",
    "    elif(arr[i] == None):\n",
    "        NAN.append(i)\n",
    "    else:\n",
    "        Non_Zero.append(i)\n",
    "print(\"Indices of zero elements ::\", Zero, \"\\nIndices of non-zero elements ::\", Non_Zero, \"\\nIndices of NaN elements ::\", NAN)"
   ]
  },
  {
   "cell_type": "markdown",
   "id": "ad9b182d",
   "metadata": {},
   "source": [
    "**Q5. Generate a 2D array having values from 1 to 100  of shape (4,5).**"
   ]
  },
  {
   "cell_type": "code",
   "execution_count": 143,
   "id": "d3a5a3b1",
   "metadata": {},
   "outputs": [
    {
     "name": "stdout",
     "output_type": "stream",
     "text": [
      "The randomly genrated array\n",
      " [[26 42 60 44 69]\n",
      " [48 19 81 55 49]\n",
      " [58 18 56  4 43]\n",
      " [60 32 75 17 75]]\n"
     ]
    }
   ],
   "source": [
    "arr = np.array(np.random.randint(1, 101, size=(4, 5)))\n",
    "print(\"The randomly genrated array\\n\", arr)"
   ]
  },
  {
   "cell_type": "markdown",
   "id": "9a3101d5",
   "metadata": {},
   "source": [
    "**I) Multiply all elements that are greater than 50 by 2.**"
   ]
  },
  {
   "cell_type": "code",
   "execution_count": 147,
   "id": "f16334d2",
   "metadata": {},
   "outputs": [
    {
     "name": "stdout",
     "output_type": "stream",
     "text": [
      "[[ 26  42 120  44 138]\n",
      " [ 48  19 162 110  49]\n",
      " [116  18 112   4  43]\n",
      " [120  32 150  17 150]]\n"
     ]
    }
   ],
   "source": [
    "for i in range(arr.shape[0]):\n",
    "    for j in range(arr.shape[1]):\n",
    "        if(arr[i][j] > 50):\n",
    "            arr[i][j]*=2\n",
    "print(arr)"
   ]
  },
  {
   "cell_type": "markdown",
   "id": "cd08dfcf",
   "metadata": {},
   "source": [
    "**II) Extract 2x2  lower-right matrix from the given array and find its largest element.** "
   ]
  },
  {
   "cell_type": "code",
   "execution_count": 157,
   "id": "189c8ae9",
   "metadata": {},
   "outputs": [
    {
     "name": "stdout",
     "output_type": "stream",
     "text": [
      "New 2x2 array ::\n",
      " [[  4  43]\n",
      " [ 17 150]]\n",
      "Largest element :: 150\n"
     ]
    }
   ],
   "source": [
    "arr1 = arr[2: , 3:]\n",
    "print(\"New 2x2 array ::\\n\",arr1)\n",
    "print(\"Largest element ::\", np.amax(arr1))"
   ]
  }
 ],
 "metadata": {
  "kernelspec": {
   "display_name": "Python 3 (ipykernel)",
   "language": "python",
   "name": "python3"
  },
  "language_info": {
   "codemirror_mode": {
    "name": "ipython",
    "version": 3
   },
   "file_extension": ".py",
   "mimetype": "text/x-python",
   "name": "python",
   "nbconvert_exporter": "python",
   "pygments_lexer": "ipython3",
   "version": "3.10.5"
  }
 },
 "nbformat": 4,
 "nbformat_minor": 5
}
