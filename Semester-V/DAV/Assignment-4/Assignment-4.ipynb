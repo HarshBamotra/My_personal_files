{
 "cells": [
  {
   "cell_type": "markdown",
   "id": "1bce9712",
   "metadata": {},
   "source": [
    "## Data Analysis and Visualisation\n",
    "\n",
    "**Name - Harsh Bamotra** <br>\n",
    "**Roll No. - AC-1216**"
   ]
  },
  {
   "cell_type": "code",
   "execution_count": 61,
   "id": "a34f6a4e",
   "metadata": {},
   "outputs": [],
   "source": [
    "import numpy as np\n",
    "import pandas as pd\n",
    "import matplotlib.pyplot as plt\n",
    "import seaborn as sns"
   ]
  },
  {
   "cell_type": "markdown",
   "id": "c26f8502",
   "metadata": {},
   "source": [
    "**Q1. Consider two excel files(construct yourselfhaving minimum 20 records)having attendance of a workshop’s participants for two days. Each file has threefields ‘Name’, ‘Time of joining’(hh:mm:ss), duration (in minutes) wherenames are unique within a file. Note that durationmay take one of three values (30, 40, 50) only. Import the data into two dataframes and do the following:<br>**"
   ]
  },
  {
   "cell_type": "code",
   "execution_count": 6,
   "id": "2a93676a",
   "metadata": {},
   "outputs": [],
   "source": [
    "day1 = pd.read_csv(\"Day1.csv\")\n",
    "day2 = pd.read_csv(\"Day2.csv\")"
   ]
  },
  {
   "cell_type": "markdown",
   "id": "54aba8e4",
   "metadata": {},
   "source": [
    "**a) Perform merging of the two dataframes to find the names of students who had attended theworkshop on both days.**"
   ]
  },
  {
   "cell_type": "code",
   "execution_count": 10,
   "id": "468caece",
   "metadata": {},
   "outputs": [
    {
     "name": "stdout",
     "output_type": "stream",
     "text": [
      "Students who had attended workshop on both days ::\n"
     ]
    },
    {
     "data": {
      "text/plain": [
       "0        Harsh\n",
       "1       Nilesh\n",
       "2      Ipshita\n",
       "3        Rahul\n",
       "4        Jatin\n",
       "5       Nitesh\n",
       "6      Ram Lal\n",
       "7     Shashank\n",
       "8        Pablo\n",
       "9        Reena\n",
       "10    Himanhsu\n",
       "11      Ishita\n",
       "12        Rose\n",
       "13     Jassica\n",
       "14     Laskhya\n",
       "15      Sameer\n",
       "Name: Name, dtype: object"
      ]
     },
     "execution_count": 10,
     "metadata": {},
     "output_type": "execute_result"
    }
   ],
   "source": [
    "print(\"Students who had attended workshop on both days ::\")\n",
    "day1.merge(day2, how = \"inner\", on=\"Name\")[\"Name\"]"
   ]
  },
  {
   "cell_type": "markdown",
   "id": "720a8369",
   "metadata": {},
   "source": [
    "**b) Find names of all students who have attended workshop on either of the days.**"
   ]
  },
  {
   "cell_type": "code",
   "execution_count": 11,
   "id": "a17f5db9",
   "metadata": {},
   "outputs": [
    {
     "data": {
      "text/plain": [
       "0             Harsh\n",
       "1            Nilesh\n",
       "2           Ipshita\n",
       "3             Rahul\n",
       "4             Jatin\n",
       "5            Nitesh\n",
       "6             Seema\n",
       "7           Ram Lal\n",
       "8          Shashank\n",
       "9       Honey Singh\n",
       "10            Pablo\n",
       "11            Reena\n",
       "12         Himanhsu\n",
       "13             Nina\n",
       "14           Ishita\n",
       "15             Rose\n",
       "16          Jassica\n",
       "17          Laskhya\n",
       "18           Sameer\n",
       "19             Ayan\n",
       "20            Suman\n",
       "21    Gippy Garewal\n",
       "22             Tiku\n",
       "23          Iftekar\n",
       "Name: Name, dtype: object"
      ]
     },
     "execution_count": 11,
     "metadata": {},
     "output_type": "execute_result"
    }
   ],
   "source": [
    "day1.merge(day2, how = \"outer\", on=\"Name\")[\"Name\"]"
   ]
  },
  {
   "cell_type": "markdown",
   "id": "139cd4d5",
   "metadata": {},
   "source": [
    "**c) Merge two data frames row-wise and find the total number of records in the data frame.**"
   ]
  },
  {
   "cell_type": "code",
   "execution_count": 18,
   "id": "aa8aae27",
   "metadata": {
    "scrolled": false
   },
   "outputs": [
    {
     "name": "stdout",
     "output_type": "stream",
     "text": [
      "There are 40 records in the dataframe ::\n"
     ]
    },
    {
     "data": {
      "text/html": [
       "<div>\n",
       "<style scoped>\n",
       "    .dataframe tbody tr th:only-of-type {\n",
       "        vertical-align: middle;\n",
       "    }\n",
       "\n",
       "    .dataframe tbody tr th {\n",
       "        vertical-align: top;\n",
       "    }\n",
       "\n",
       "    .dataframe thead th {\n",
       "        text-align: right;\n",
       "    }\n",
       "</style>\n",
       "<table border=\"1\" class=\"dataframe\">\n",
       "  <thead>\n",
       "    <tr style=\"text-align: right;\">\n",
       "      <th></th>\n",
       "      <th>Name</th>\n",
       "      <th>Time of joining</th>\n",
       "      <th>Duration</th>\n",
       "    </tr>\n",
       "  </thead>\n",
       "  <tbody>\n",
       "    <tr>\n",
       "      <th>0</th>\n",
       "      <td>Harsh</td>\n",
       "      <td>10:00:00</td>\n",
       "      <td>30.0</td>\n",
       "    </tr>\n",
       "    <tr>\n",
       "      <th>1</th>\n",
       "      <td>Nilesh</td>\n",
       "      <td>10:00:00</td>\n",
       "      <td>40.0</td>\n",
       "    </tr>\n",
       "    <tr>\n",
       "      <th>2</th>\n",
       "      <td>Ipshita</td>\n",
       "      <td>10:00:00</td>\n",
       "      <td>50.0</td>\n",
       "    </tr>\n",
       "    <tr>\n",
       "      <th>3</th>\n",
       "      <td>Rahul</td>\n",
       "      <td>10:00:00</td>\n",
       "      <td>30.0</td>\n",
       "    </tr>\n",
       "    <tr>\n",
       "      <th>4</th>\n",
       "      <td>Jatin</td>\n",
       "      <td>10:00:00</td>\n",
       "      <td>30.0</td>\n",
       "    </tr>\n",
       "  </tbody>\n",
       "</table>\n",
       "</div>"
      ],
      "text/plain": [
       "      Name Time of joining  Duration\n",
       "0    Harsh        10:00:00      30.0\n",
       "1   Nilesh        10:00:00      40.0\n",
       "2  Ipshita        10:00:00      50.0\n",
       "3    Rahul        10:00:00      30.0\n",
       "4    Jatin        10:00:00      30.0"
      ]
     },
     "execution_count": 18,
     "metadata": {},
     "output_type": "execute_result"
    }
   ],
   "source": [
    "total = pd.concat([day1, day2]).reset_index(drop = True)\n",
    "print(\"There are {} records in the dataframe ::\".format(len(total)))\n",
    "total.head()"
   ]
  },
  {
   "cell_type": "markdown",
   "id": "97e58dbf",
   "metadata": {},
   "source": [
    "**d) Merge two data frames and use two columns names and duration as multi-row indexes. Generate descriptive statistics for this multi-index.**"
   ]
  },
  {
   "cell_type": "code",
   "execution_count": 24,
   "id": "2c129c91",
   "metadata": {},
   "outputs": [
    {
     "data": {
      "text/html": [
       "<div>\n",
       "<style scoped>\n",
       "    .dataframe tbody tr th:only-of-type {\n",
       "        vertical-align: middle;\n",
       "    }\n",
       "\n",
       "    .dataframe tbody tr th {\n",
       "        vertical-align: top;\n",
       "    }\n",
       "\n",
       "    .dataframe thead th {\n",
       "        text-align: right;\n",
       "    }\n",
       "</style>\n",
       "<table border=\"1\" class=\"dataframe\">\n",
       "  <thead>\n",
       "    <tr style=\"text-align: right;\">\n",
       "      <th></th>\n",
       "      <th>Time of joining</th>\n",
       "    </tr>\n",
       "  </thead>\n",
       "  <tbody>\n",
       "    <tr>\n",
       "      <th>count</th>\n",
       "      <td>6</td>\n",
       "    </tr>\n",
       "    <tr>\n",
       "      <th>unique</th>\n",
       "      <td>1</td>\n",
       "    </tr>\n",
       "    <tr>\n",
       "      <th>top</th>\n",
       "      <td>10:00:00</td>\n",
       "    </tr>\n",
       "    <tr>\n",
       "      <th>freq</th>\n",
       "      <td>6</td>\n",
       "    </tr>\n",
       "  </tbody>\n",
       "</table>\n",
       "</div>"
      ],
      "text/plain": [
       "       Time of joining\n",
       "count                6\n",
       "unique               1\n",
       "top           10:00:00\n",
       "freq                 6"
      ]
     },
     "execution_count": 24,
     "metadata": {},
     "output_type": "execute_result"
    }
   ],
   "source": [
    "result = day1.merge(day2)\n",
    "result.set_index([\"Name\", \"Duration\"]).describe()"
   ]
  },
  {
   "cell_type": "markdown",
   "id": "2c502861",
   "metadata": {},
   "source": [
    "**e) Count  number of rows with more than one NA values.**"
   ]
  },
  {
   "cell_type": "code",
   "execution_count": 29,
   "id": "6cb4b265",
   "metadata": {},
   "outputs": [
    {
     "name": "stdout",
     "output_type": "stream",
     "text": [
      "Rows with more than one NA value :: 2\n"
     ]
    }
   ],
   "source": [
    "count = 0\n",
    "for i in pd.concat([day1, day2]).isna().sum():\n",
    "    if i > 1:\n",
    "        count+=1\n",
    "print(\"Rows with more than one NA value ::\", count)"
   ]
  },
  {
   "cell_type": "markdown",
   "id": "6a191014",
   "metadata": {},
   "source": [
    "**Q2. Taking Iris data, plot the following with proper legend and axis labels:**"
   ]
  },
  {
   "cell_type": "code",
   "execution_count": 55,
   "id": "814d8be5",
   "metadata": {},
   "outputs": [
    {
     "data": {
      "text/html": [
       "<div>\n",
       "<style scoped>\n",
       "    .dataframe tbody tr th:only-of-type {\n",
       "        vertical-align: middle;\n",
       "    }\n",
       "\n",
       "    .dataframe tbody tr th {\n",
       "        vertical-align: top;\n",
       "    }\n",
       "\n",
       "    .dataframe thead th {\n",
       "        text-align: right;\n",
       "    }\n",
       "</style>\n",
       "<table border=\"1\" class=\"dataframe\">\n",
       "  <thead>\n",
       "    <tr style=\"text-align: right;\">\n",
       "      <th></th>\n",
       "      <th>sepal_length</th>\n",
       "      <th>sepal_width</th>\n",
       "      <th>petal_length</th>\n",
       "      <th>petal_width</th>\n",
       "      <th>class</th>\n",
       "    </tr>\n",
       "  </thead>\n",
       "  <tbody>\n",
       "    <tr>\n",
       "      <th>0</th>\n",
       "      <td>5.1</td>\n",
       "      <td>3.5</td>\n",
       "      <td>1.4</td>\n",
       "      <td>0.2</td>\n",
       "      <td>Iris-setosa</td>\n",
       "    </tr>\n",
       "    <tr>\n",
       "      <th>1</th>\n",
       "      <td>4.9</td>\n",
       "      <td>3.0</td>\n",
       "      <td>1.4</td>\n",
       "      <td>0.2</td>\n",
       "      <td>Iris-setosa</td>\n",
       "    </tr>\n",
       "    <tr>\n",
       "      <th>2</th>\n",
       "      <td>4.7</td>\n",
       "      <td>3.2</td>\n",
       "      <td>1.3</td>\n",
       "      <td>0.2</td>\n",
       "      <td>Iris-setosa</td>\n",
       "    </tr>\n",
       "    <tr>\n",
       "      <th>3</th>\n",
       "      <td>4.6</td>\n",
       "      <td>3.1</td>\n",
       "      <td>1.5</td>\n",
       "      <td>0.2</td>\n",
       "      <td>Iris-setosa</td>\n",
       "    </tr>\n",
       "    <tr>\n",
       "      <th>4</th>\n",
       "      <td>5.0</td>\n",
       "      <td>3.6</td>\n",
       "      <td>1.4</td>\n",
       "      <td>0.2</td>\n",
       "      <td>Iris-setosa</td>\n",
       "    </tr>\n",
       "  </tbody>\n",
       "</table>\n",
       "</div>"
      ],
      "text/plain": [
       "   sepal_length  sepal_width  petal_length  petal_width        class\n",
       "0           5.1          3.5           1.4          0.2  Iris-setosa\n",
       "1           4.9          3.0           1.4          0.2  Iris-setosa\n",
       "2           4.7          3.2           1.3          0.2  Iris-setosa\n",
       "3           4.6          3.1           1.5          0.2  Iris-setosa\n",
       "4           5.0          3.6           1.4          0.2  Iris-setosa"
      ]
     },
     "execution_count": 55,
     "metadata": {},
     "output_type": "execute_result"
    }
   ],
   "source": [
    "data = pd.read_csv(\"iris_data.csv\")\n",
    "data.head()"
   ]
  },
  {
   "cell_type": "markdown",
   "id": "e722de3d",
   "metadata": {},
   "source": [
    "**a) Plot bar chart to show the frequency of each class label in the data.**"
   ]
  },
  {
   "cell_type": "code",
   "execution_count": 45,
   "id": "3b34cfcc",
   "metadata": {},
   "outputs": [],
   "source": [
    "xy = data[\"class\"].value_counts()"
   ]
  },
  {
   "cell_type": "code",
   "execution_count": 56,
   "id": "8a7e18da",
   "metadata": {},
   "outputs": [
    {
     "data": {
      "image/png": "[encoded data removed]",
      "text/plain": [
       "<Figure size 500x250 with 1 Axes>"
      ]
     },
     "metadata": {},
     "output_type": "display_data"
    }
   ],
   "source": [
    "fig = plt.figure(figsize = (5, 2.5))\n",
    "plt.bar(xy.keys(), list(xy), color ='Blue', width = 0.2)\n",
    "plt.xlabel(\"Class Labels\")\n",
    "plt.ylabel(\"Frequency\")\n",
    "plt.title(\"Frequency of each class\")\n",
    "plt.show()"
   ]
  },
  {
   "cell_type": "markdown",
   "id": "3d5d3fbe",
   "metadata": {},
   "source": [
    "**b) Draw a scatter plot for Petal width vs sepal width.**"
   ]
  },
  {
   "cell_type": "code",
   "execution_count": 57,
   "id": "a7c4a9eb",
   "metadata": {},
   "outputs": [
    {
     "data": {
      "image/png": "[encoded data removed]",
      "text/plain": [
       "<Figure size 640x480 with 1 Axes>"
      ]
     },
     "metadata": {},
     "output_type": "display_data"
    }
   ],
   "source": [
    "x = data[\"petal_width\"]\n",
    "y = data[\"sepal_width\"]\n",
    "plt.scatter(x, y, c =\"blue\")\n",
    "plt.title(\"Petal Width vs Sepal Width\")\n",
    "plt.xlabel(\"Petal Width\")\n",
    "plt.ylabel(\"Sepal Width\")\n",
    "plt.show()"
   ]
  },
  {
   "cell_type": "markdown",
   "id": "b39564c9",
   "metadata": {},
   "source": [
    "**c) Plot density distribution for feature petal length.**"
   ]
  },
  {
   "cell_type": "code",
   "execution_count": 60,
   "id": "f5a13c3a",
   "metadata": {},
   "outputs": [
    {
     "data": {
      "text/plain": [
       "<AxesSubplot: ylabel='Density'>"
      ]
     },
     "execution_count": 60,
     "metadata": {},
     "output_type": "execute_result"
    },
    {
     "data": {
      "image/png": "[encoded data removed]",
      "text/plain": [
       "<Figure size 640x480 with 1 Axes>"
      ]
     },
     "metadata": {},
     "output_type": "display_data"
    }
   ],
   "source": [
    "data.petal_length.plot.density(color = \"Blue\")"
   ]
  },
  {
   "cell_type": "markdown",
   "id": "0deba2b0",
   "metadata": {},
   "source": [
    "**d) Use a pair plot to show pairwise bivariate distribution in the Iris Dataset.**"
   ]
  },
  {
   "cell_type": "code",
   "execution_count": 62,
   "id": "0e6e6cb4",
   "metadata": {},
   "outputs": [
    {
     "data": {
      "text/plain": [
       "<seaborn.axisgrid.PairGrid at 0x220e6c61b40>"
      ]
     },
     "execution_count": 62,
     "metadata": {},
     "output_type": "execute_result"
    },
    {
     "data": {
      "image/png": "[encoded data removed]",
      "text/plain": [
       "<Figure size 1000x1000 with 20 Axes>"
      ]
     },
     "metadata": {},
     "output_type": "display_data"
    }
   ],
   "source": [
    "sns.pairplot(data)"
   ]
  },
  {
   "cell_type": "markdown",
   "id": "4e6e706c",
   "metadata": {},
   "source": [
    "**e) Compare  five summary distribution information of two features  petal width and sepal width using boxplots**"
   ]
  },
  {
   "cell_type": "code",
   "execution_count": 82,
   "id": "8fe9fda7",
   "metadata": {},
   "outputs": [
    {
     "data": {
      "image/png": "[encoded data removed]",
      "text/plain": [
       "<Figure size 300x500 with 1 Axes>"
      ]
     },
     "metadata": {},
     "output_type": "display_data"
    }
   ],
   "source": [
    "plot = [data[\"petal_width\"], data[\"sepal_width\"]]\n",
    "fig = plt.figure(figsize =(3, 5))\n",
    "ax = fig.add_axes([0, 0, 1, 1])\n",
    "ax.boxplot(plot)\n",
    "plt.show()"
   ]
  },
  {
   "cell_type": "markdown",
   "id": "36d41794",
   "metadata": {},
   "source": [
    "**f) Compare five point statistical summary of two features petal width and sepal width using appropriate graph.**"
   ]
  },
  {
   "cell_type": "code",
   "execution_count": 83,
   "id": "f2e695e3",
   "metadata": {},
   "outputs": [
    {
     "data": {
      "image/png": "[encoded data removed]",
      "text/plain": [
       "<Figure size 300x500 with 1 Axes>"
      ]
     },
     "metadata": {},
     "output_type": "display_data"
    }
   ],
   "source": [
    "plot = [data[\"petal_width\"], data[\"sepal_width\"]]\n",
    "fig = plt.figure(figsize =(3, 5))\n",
    "ax = fig.add_axes([0, 0, 1, 1])\n",
    "ax.boxplot(plot)\n",
    "plt.show()"
   ]
  },
  {
   "cell_type": "markdown",
   "id": "aa18832e",
   "metadata": {},
   "source": [
    "**g) Draw a piechart showing distribution of three classes.**"
   ]
  },
  {
   "cell_type": "code",
   "execution_count": 94,
   "id": "05e8c6a9",
   "metadata": {},
   "outputs": [
    {
     "data": {
      "image/png": "[encoded data removed]",
      "text/plain": [
       "<Figure size 1000x700 with 1 Axes>"
      ]
     },
     "metadata": {},
     "output_type": "display_data"
    }
   ],
   "source": [
    "xy = data[\"class\"].value_counts()\n",
    "fig = plt.figure(figsize =(10, 7))\n",
    "plt.title(\"Class Distribution\")\n",
    "plt.pie(list(xy), labels = xy.keys(), explode = [0.01, 0.01, 0.01], startangle = 90)\n",
    "plt.legend()\n",
    "plt.show()"
   ]
  },
  {
   "cell_type": "markdown",
   "id": "4b629595",
   "metadata": {},
   "source": [
    "**Q3. Create a dataframe to store marks of M students for n subjects and do the following:** "
   ]
  },
  {
   "cell_type": "code",
   "execution_count": 132,
   "id": "1fd200a7",
   "metadata": {},
   "outputs": [
    {
     "data": {
      "text/html": [
       "<div>\n",
       "<style scoped>\n",
       "    .dataframe tbody tr th:only-of-type {\n",
       "        vertical-align: middle;\n",
       "    }\n",
       "\n",
       "    .dataframe tbody tr th {\n",
       "        vertical-align: top;\n",
       "    }\n",
       "\n",
       "    .dataframe thead th {\n",
       "        text-align: right;\n",
       "    }\n",
       "</style>\n",
       "<table border=\"1\" class=\"dataframe\">\n",
       "  <thead>\n",
       "    <tr style=\"text-align: right;\">\n",
       "      <th></th>\n",
       "      <th>C++</th>\n",
       "      <th>Java</th>\n",
       "      <th>Python</th>\n",
       "      <th>DAV</th>\n",
       "      <th>DSA</th>\n",
       "    </tr>\n",
       "  </thead>\n",
       "  <tbody>\n",
       "    <tr>\n",
       "      <th>Harsh</th>\n",
       "      <td>8</td>\n",
       "      <td>82</td>\n",
       "      <td>97</td>\n",
       "      <td>14</td>\n",
       "      <td>48</td>\n",
       "    </tr>\n",
       "    <tr>\n",
       "      <th>Shashank</th>\n",
       "      <td>98</td>\n",
       "      <td>92</td>\n",
       "      <td>91</td>\n",
       "      <td>88</td>\n",
       "      <td>18</td>\n",
       "    </tr>\n",
       "    <tr>\n",
       "      <th>Animesh</th>\n",
       "      <td>58</td>\n",
       "      <td>10</td>\n",
       "      <td>47</td>\n",
       "      <td>36</td>\n",
       "      <td>26</td>\n",
       "    </tr>\n",
       "    <tr>\n",
       "      <th>Robin</th>\n",
       "      <td>10</td>\n",
       "      <td>45</td>\n",
       "      <td>47</td>\n",
       "      <td>40</td>\n",
       "      <td>17</td>\n",
       "    </tr>\n",
       "    <tr>\n",
       "      <th>Jatin</th>\n",
       "      <td>51</td>\n",
       "      <td>1</td>\n",
       "      <td>89</td>\n",
       "      <td>55</td>\n",
       "      <td>98</td>\n",
       "    </tr>\n",
       "  </tbody>\n",
       "</table>\n",
       "</div>"
      ],
      "text/plain": [
       "          C++  Java  Python  DAV  DSA\n",
       "Harsh       8    82      97   14   48\n",
       "Shashank   98    92      91   88   18\n",
       "Animesh    58    10      47   36   26\n",
       "Robin      10    45      47   40   17\n",
       "Jatin      51     1      89   55   98"
      ]
     },
     "execution_count": 132,
     "metadata": {},
     "output_type": "execute_result"
    }
   ],
   "source": [
    "marks = pd.DataFrame(np.random.randint(101, size=(5,5)), \n",
    "                     index=[\"Harsh\", \"Shashank\", \"Animesh\", \"Robin\", \"Jatin\"], \n",
    "                     columns = [\"C++\", \"Java\", \"Python\", \"DAV\", \"DSA\"])\n",
    "marks"
   ]
  },
  {
   "cell_type": "markdown",
   "id": "f14b0dda",
   "metadata": {},
   "source": [
    "**i) Find average marks for each student and add as a column .**"
   ]
  },
  {
   "cell_type": "code",
   "execution_count": 133,
   "id": "5d6586f6",
   "metadata": {},
   "outputs": [
    {
     "data": {
      "text/html": [
       "<div>\n",
       "<style scoped>\n",
       "    .dataframe tbody tr th:only-of-type {\n",
       "        vertical-align: middle;\n",
       "    }\n",
       "\n",
       "    .dataframe tbody tr th {\n",
       "        vertical-align: top;\n",
       "    }\n",
       "\n",
       "    .dataframe thead th {\n",
       "        text-align: right;\n",
       "    }\n",
       "</style>\n",
       "<table border=\"1\" class=\"dataframe\">\n",
       "  <thead>\n",
       "    <tr style=\"text-align: right;\">\n",
       "      <th></th>\n",
       "      <th>C++</th>\n",
       "      <th>Java</th>\n",
       "      <th>Python</th>\n",
       "      <th>DAV</th>\n",
       "      <th>DSA</th>\n",
       "      <th>Average</th>\n",
       "    </tr>\n",
       "  </thead>\n",
       "  <tbody>\n",
       "    <tr>\n",
       "      <th>Harsh</th>\n",
       "      <td>8</td>\n",
       "      <td>82</td>\n",
       "      <td>97</td>\n",
       "      <td>14</td>\n",
       "      <td>48</td>\n",
       "      <td>49.8</td>\n",
       "    </tr>\n",
       "    <tr>\n",
       "      <th>Shashank</th>\n",
       "      <td>98</td>\n",
       "      <td>92</td>\n",
       "      <td>91</td>\n",
       "      <td>88</td>\n",
       "      <td>18</td>\n",
       "      <td>77.4</td>\n",
       "    </tr>\n",
       "    <tr>\n",
       "      <th>Animesh</th>\n",
       "      <td>58</td>\n",
       "      <td>10</td>\n",
       "      <td>47</td>\n",
       "      <td>36</td>\n",
       "      <td>26</td>\n",
       "      <td>35.4</td>\n",
       "    </tr>\n",
       "    <tr>\n",
       "      <th>Robin</th>\n",
       "      <td>10</td>\n",
       "      <td>45</td>\n",
       "      <td>47</td>\n",
       "      <td>40</td>\n",
       "      <td>17</td>\n",
       "      <td>31.8</td>\n",
       "    </tr>\n",
       "    <tr>\n",
       "      <th>Jatin</th>\n",
       "      <td>51</td>\n",
       "      <td>1</td>\n",
       "      <td>89</td>\n",
       "      <td>55</td>\n",
       "      <td>98</td>\n",
       "      <td>58.8</td>\n",
       "    </tr>\n",
       "  </tbody>\n",
       "</table>\n",
       "</div>"
      ],
      "text/plain": [
       "          C++  Java  Python  DAV  DSA  Average\n",
       "Harsh       8    82      97   14   48     49.8\n",
       "Shashank   98    92      91   88   18     77.4\n",
       "Animesh    58    10      47   36   26     35.4\n",
       "Robin      10    45      47   40   17     31.8\n",
       "Jatin      51     1      89   55   98     58.8"
      ]
     },
     "execution_count": 133,
     "metadata": {},
     "output_type": "execute_result"
    }
   ],
   "source": [
    "marks[\"Average\"] = marks.mean(axis = 1) \n",
    "marks"
   ]
  },
  {
   "cell_type": "markdown",
   "id": "da53e15a",
   "metadata": {},
   "source": [
    "**ii) Display average marks of each subjects and add a new row.**"
   ]
  },
  {
   "cell_type": "code",
   "execution_count": 134,
   "id": "424bbf70",
   "metadata": {},
   "outputs": [
    {
     "data": {
      "text/html": [
       "<div>\n",
       "<style scoped>\n",
       "    .dataframe tbody tr th:only-of-type {\n",
       "        vertical-align: middle;\n",
       "    }\n",
       "\n",
       "    .dataframe tbody tr th {\n",
       "        vertical-align: top;\n",
       "    }\n",
       "\n",
       "    .dataframe thead th {\n",
       "        text-align: right;\n",
       "    }\n",
       "</style>\n",
       "<table border=\"1\" class=\"dataframe\">\n",
       "  <thead>\n",
       "    <tr style=\"text-align: right;\">\n",
       "      <th></th>\n",
       "      <th>C++</th>\n",
       "      <th>Java</th>\n",
       "      <th>Python</th>\n",
       "      <th>DAV</th>\n",
       "      <th>DSA</th>\n",
       "      <th>Average</th>\n",
       "    </tr>\n",
       "  </thead>\n",
       "  <tbody>\n",
       "    <tr>\n",
       "      <th>Harsh</th>\n",
       "      <td>8.0</td>\n",
       "      <td>82.0</td>\n",
       "      <td>97.0</td>\n",
       "      <td>14.0</td>\n",
       "      <td>48.0</td>\n",
       "      <td>49.80</td>\n",
       "    </tr>\n",
       "    <tr>\n",
       "      <th>Shashank</th>\n",
       "      <td>98.0</td>\n",
       "      <td>92.0</td>\n",
       "      <td>91.0</td>\n",
       "      <td>88.0</td>\n",
       "      <td>18.0</td>\n",
       "      <td>77.40</td>\n",
       "    </tr>\n",
       "    <tr>\n",
       "      <th>Animesh</th>\n",
       "      <td>58.0</td>\n",
       "      <td>10.0</td>\n",
       "      <td>47.0</td>\n",
       "      <td>36.0</td>\n",
       "      <td>26.0</td>\n",
       "      <td>35.40</td>\n",
       "    </tr>\n",
       "    <tr>\n",
       "      <th>Robin</th>\n",
       "      <td>10.0</td>\n",
       "      <td>45.0</td>\n",
       "      <td>47.0</td>\n",
       "      <td>40.0</td>\n",
       "      <td>17.0</td>\n",
       "      <td>31.80</td>\n",
       "    </tr>\n",
       "    <tr>\n",
       "      <th>Jatin</th>\n",
       "      <td>51.0</td>\n",
       "      <td>1.0</td>\n",
       "      <td>89.0</td>\n",
       "      <td>55.0</td>\n",
       "      <td>98.0</td>\n",
       "      <td>58.80</td>\n",
       "    </tr>\n",
       "    <tr>\n",
       "      <th>Average</th>\n",
       "      <td>45.0</td>\n",
       "      <td>46.0</td>\n",
       "      <td>74.2</td>\n",
       "      <td>46.6</td>\n",
       "      <td>41.4</td>\n",
       "      <td>50.64</td>\n",
       "    </tr>\n",
       "  </tbody>\n",
       "</table>\n",
       "</div>"
      ],
      "text/plain": [
       "           C++  Java  Python   DAV   DSA  Average\n",
       "Harsh      8.0  82.0    97.0  14.0  48.0    49.80\n",
       "Shashank  98.0  92.0    91.0  88.0  18.0    77.40\n",
       "Animesh   58.0  10.0    47.0  36.0  26.0    35.40\n",
       "Robin     10.0  45.0    47.0  40.0  17.0    31.80\n",
       "Jatin     51.0   1.0    89.0  55.0  98.0    58.80\n",
       "Average   45.0  46.0    74.2  46.6  41.4    50.64"
      ]
     },
     "execution_count": 134,
     "metadata": {},
     "output_type": "execute_result"
    }
   ],
   "source": [
    "marks.loc[\"Average\"] = marks.mean(axis = 0)\n",
    "marks"
   ]
  },
  {
   "cell_type": "markdown",
   "id": "303f1834",
   "metadata": {},
   "source": [
    "**iii) Compute descriptive statistics subject-wise.**"
   ]
  },
  {
   "cell_type": "code",
   "execution_count": 135,
   "id": "b7514a25",
   "metadata": {},
   "outputs": [
    {
     "data": {
      "text/html": [
       "<div>\n",
       "<style scoped>\n",
       "    .dataframe tbody tr th:only-of-type {\n",
       "        vertical-align: middle;\n",
       "    }\n",
       "\n",
       "    .dataframe tbody tr th {\n",
       "        vertical-align: top;\n",
       "    }\n",
       "\n",
       "    .dataframe thead th {\n",
       "        text-align: right;\n",
       "    }\n",
       "</style>\n",
       "<table border=\"1\" class=\"dataframe\">\n",
       "  <thead>\n",
       "    <tr style=\"text-align: right;\">\n",
       "      <th></th>\n",
       "      <th>C++</th>\n",
       "      <th>Java</th>\n",
       "      <th>Python</th>\n",
       "      <th>DAV</th>\n",
       "      <th>DSA</th>\n",
       "      <th>Average</th>\n",
       "    </tr>\n",
       "  </thead>\n",
       "  <tbody>\n",
       "    <tr>\n",
       "      <th>count</th>\n",
       "      <td>6.000000</td>\n",
       "      <td>6.000000</td>\n",
       "      <td>6.000000</td>\n",
       "      <td>6.000000</td>\n",
       "      <td>6.000000</td>\n",
       "      <td>6.000000</td>\n",
       "    </tr>\n",
       "    <tr>\n",
       "      <th>mean</th>\n",
       "      <td>45.000000</td>\n",
       "      <td>46.000000</td>\n",
       "      <td>74.200000</td>\n",
       "      <td>46.600000</td>\n",
       "      <td>41.400000</td>\n",
       "      <td>50.640000</td>\n",
       "    </tr>\n",
       "    <tr>\n",
       "      <th>std</th>\n",
       "      <td>33.490297</td>\n",
       "      <td>36.698774</td>\n",
       "      <td>22.364257</td>\n",
       "      <td>24.507958</td>\n",
       "      <td>30.421045</td>\n",
       "      <td>16.556521</td>\n",
       "    </tr>\n",
       "    <tr>\n",
       "      <th>min</th>\n",
       "      <td>8.000000</td>\n",
       "      <td>1.000000</td>\n",
       "      <td>47.000000</td>\n",
       "      <td>14.000000</td>\n",
       "      <td>17.000000</td>\n",
       "      <td>31.800000</td>\n",
       "    </tr>\n",
       "    <tr>\n",
       "      <th>25%</th>\n",
       "      <td>18.750000</td>\n",
       "      <td>18.750000</td>\n",
       "      <td>53.800000</td>\n",
       "      <td>37.000000</td>\n",
       "      <td>20.000000</td>\n",
       "      <td>39.000000</td>\n",
       "    </tr>\n",
       "    <tr>\n",
       "      <th>50%</th>\n",
       "      <td>48.000000</td>\n",
       "      <td>45.500000</td>\n",
       "      <td>81.600000</td>\n",
       "      <td>43.300000</td>\n",
       "      <td>33.700000</td>\n",
       "      <td>50.220000</td>\n",
       "    </tr>\n",
       "    <tr>\n",
       "      <th>75%</th>\n",
       "      <td>56.250000</td>\n",
       "      <td>73.000000</td>\n",
       "      <td>90.500000</td>\n",
       "      <td>52.900000</td>\n",
       "      <td>46.350000</td>\n",
       "      <td>56.760000</td>\n",
       "    </tr>\n",
       "    <tr>\n",
       "      <th>max</th>\n",
       "      <td>98.000000</td>\n",
       "      <td>92.000000</td>\n",
       "      <td>97.000000</td>\n",
       "      <td>88.000000</td>\n",
       "      <td>98.000000</td>\n",
       "      <td>77.400000</td>\n",
       "    </tr>\n",
       "  </tbody>\n",
       "</table>\n",
       "</div>"
      ],
      "text/plain": [
       "             C++       Java     Python        DAV        DSA    Average\n",
       "count   6.000000   6.000000   6.000000   6.000000   6.000000   6.000000\n",
       "mean   45.000000  46.000000  74.200000  46.600000  41.400000  50.640000\n",
       "std    33.490297  36.698774  22.364257  24.507958  30.421045  16.556521\n",
       "min     8.000000   1.000000  47.000000  14.000000  17.000000  31.800000\n",
       "25%    18.750000  18.750000  53.800000  37.000000  20.000000  39.000000\n",
       "50%    48.000000  45.500000  81.600000  43.300000  33.700000  50.220000\n",
       "75%    56.250000  73.000000  90.500000  52.900000  46.350000  56.760000\n",
       "max    98.000000  92.000000  97.000000  88.000000  98.000000  77.400000"
      ]
     },
     "execution_count": 135,
     "metadata": {},
     "output_type": "execute_result"
    }
   ],
   "source": [
    "marks.describe()"
   ]
  },
  {
   "cell_type": "markdown",
   "id": "5537cde1",
   "metadata": {},
   "source": [
    "**iv) Assign grades obtained by each student.**"
   ]
  },
  {
   "cell_type": "code",
   "execution_count": 136,
   "id": "2fc1a810",
   "metadata": {},
   "outputs": [
    {
     "data": {
      "text/plain": [
       "Harsh       F\n",
       "Shashank    C\n",
       "Animesh     F\n",
       "Robin       F\n",
       "Jatin       E\n",
       "Average     E\n",
       "Name: Average, dtype: object"
      ]
     },
     "execution_count": 136,
     "metadata": {},
     "output_type": "execute_result"
    }
   ],
   "source": [
    "grades = lambda x: \"A\" if x >=90 else (\"B\" if x<=89 and x>=80 else (\"C\" if x<=79 and x>=70 else (\"D\" if x<=69 and x>=60 else (\"E\" if x<=59 and x>=50 else \"F\"))))\n",
    "new = marks[\"Average\"].apply(grades)\n",
    "new"
   ]
  },
  {
   "cell_type": "markdown",
   "id": "7d774b91",
   "metadata": {},
   "source": [
    "**v) Find frequency of each grade for the class.**"
   ]
  },
  {
   "cell_type": "code",
   "execution_count": 137,
   "id": "82701341",
   "metadata": {},
   "outputs": [
    {
     "data": {
      "text/html": [
       "<div>\n",
       "<style scoped>\n",
       "    .dataframe tbody tr th:only-of-type {\n",
       "        vertical-align: middle;\n",
       "    }\n",
       "\n",
       "    .dataframe tbody tr th {\n",
       "        vertical-align: top;\n",
       "    }\n",
       "\n",
       "    .dataframe thead th {\n",
       "        text-align: right;\n",
       "    }\n",
       "</style>\n",
       "<table border=\"1\" class=\"dataframe\">\n",
       "  <thead>\n",
       "    <tr style=\"text-align: right;\">\n",
       "      <th></th>\n",
       "      <th>Name</th>\n",
       "    </tr>\n",
       "    <tr>\n",
       "      <th>Average</th>\n",
       "      <th></th>\n",
       "    </tr>\n",
       "  </thead>\n",
       "  <tbody>\n",
       "    <tr>\n",
       "      <th>C</th>\n",
       "      <td>1</td>\n",
       "    </tr>\n",
       "    <tr>\n",
       "      <th>E</th>\n",
       "      <td>2</td>\n",
       "    </tr>\n",
       "    <tr>\n",
       "      <th>F</th>\n",
       "      <td>3</td>\n",
       "    </tr>\n",
       "  </tbody>\n",
       "</table>\n",
       "</div>"
      ],
      "text/plain": [
       "         Name\n",
       "Average      \n",
       "C           1\n",
       "E           2\n",
       "F           3"
      ]
     },
     "execution_count": 137,
     "metadata": {},
     "output_type": "execute_result"
    }
   ],
   "source": [
    "new = pd.DataFrame(new)\n",
    "new.insert(0, \"Name\", new.index)\n",
    "new.index = np.arange(1,7)\n",
    "new.groupby(\"Average\").count()"
   ]
  },
  {
   "cell_type": "markdown",
   "id": "3440ce51",
   "metadata": {},
   "source": [
    "**vi) Find frequency of each grade obtained by each student and create a new DF as the following and set Rollno as the row index of the DF.**"
   ]
  },
  {
   "cell_type": "code",
   "execution_count": 149,
   "id": "d2172066",
   "metadata": {},
   "outputs": [
    {
     "data": {
      "text/html": [
       "<div>\n",
       "<style scoped>\n",
       "    .dataframe tbody tr th:only-of-type {\n",
       "        vertical-align: middle;\n",
       "    }\n",
       "\n",
       "    .dataframe tbody tr th {\n",
       "        vertical-align: top;\n",
       "    }\n",
       "\n",
       "    .dataframe thead th {\n",
       "        text-align: right;\n",
       "    }\n",
       "</style>\n",
       "<table border=\"1\" class=\"dataframe\">\n",
       "  <thead>\n",
       "    <tr style=\"text-align: right;\">\n",
       "      <th></th>\n",
       "      <th>Name</th>\n",
       "      <th>C++</th>\n",
       "      <th>Java</th>\n",
       "      <th>Python</th>\n",
       "      <th>DAV</th>\n",
       "      <th>DSA</th>\n",
       "    </tr>\n",
       "  </thead>\n",
       "  <tbody>\n",
       "    <tr>\n",
       "      <th>1</th>\n",
       "      <td>Harsh</td>\n",
       "      <td>8.0</td>\n",
       "      <td>82.0</td>\n",
       "      <td>97.0</td>\n",
       "      <td>14.0</td>\n",
       "      <td>48.0</td>\n",
       "    </tr>\n",
       "    <tr>\n",
       "      <th>2</th>\n",
       "      <td>Shashank</td>\n",
       "      <td>98.0</td>\n",
       "      <td>92.0</td>\n",
       "      <td>91.0</td>\n",
       "      <td>88.0</td>\n",
       "      <td>18.0</td>\n",
       "    </tr>\n",
       "    <tr>\n",
       "      <th>3</th>\n",
       "      <td>Animesh</td>\n",
       "      <td>58.0</td>\n",
       "      <td>10.0</td>\n",
       "      <td>47.0</td>\n",
       "      <td>36.0</td>\n",
       "      <td>26.0</td>\n",
       "    </tr>\n",
       "    <tr>\n",
       "      <th>4</th>\n",
       "      <td>Robin</td>\n",
       "      <td>10.0</td>\n",
       "      <td>45.0</td>\n",
       "      <td>47.0</td>\n",
       "      <td>40.0</td>\n",
       "      <td>17.0</td>\n",
       "    </tr>\n",
       "    <tr>\n",
       "      <th>5</th>\n",
       "      <td>Jatin</td>\n",
       "      <td>51.0</td>\n",
       "      <td>1.0</td>\n",
       "      <td>89.0</td>\n",
       "      <td>55.0</td>\n",
       "      <td>98.0</td>\n",
       "    </tr>\n",
       "  </tbody>\n",
       "</table>\n",
       "</div>"
      ],
      "text/plain": [
       "       Name   C++  Java  Python   DAV   DSA\n",
       "1     Harsh   8.0  82.0    97.0  14.0  48.0\n",
       "2  Shashank  98.0  92.0    91.0  88.0  18.0\n",
       "3   Animesh  58.0  10.0    47.0  36.0  26.0\n",
       "4     Robin  10.0  45.0    47.0  40.0  17.0\n",
       "5     Jatin  51.0   1.0    89.0  55.0  98.0"
      ]
     },
     "execution_count": 149,
     "metadata": {},
     "output_type": "execute_result"
    }
   ],
   "source": [
    "newDf = marks.copy()\n",
    "newDf.insert(0, \"Name\", newDf.index)\n",
    "newDf.index = np.arange(1, 7)\n",
    "newDf = newDf.drop(\"Average\", axis = 1)\n",
    "newDf = newDf.drop(6, axis = 0)\n",
    "newDf"
   ]
  },
  {
   "cell_type": "code",
   "execution_count": 150,
   "id": "4c5bec3c",
   "metadata": {},
   "outputs": [],
   "source": [
    "for i in newDf.columns[1:]:\n",
    "    newDf[i] = newDf[i].apply(grades)"
   ]
  },
  {
   "cell_type": "code",
   "execution_count": 151,
   "id": "bd2ce6f6",
   "metadata": {},
   "outputs": [
    {
     "data": {
      "text/html": [
       "<div>\n",
       "<style scoped>\n",
       "    .dataframe tbody tr th:only-of-type {\n",
       "        vertical-align: middle;\n",
       "    }\n",
       "\n",
       "    .dataframe tbody tr th {\n",
       "        vertical-align: top;\n",
       "    }\n",
       "\n",
       "    .dataframe thead th {\n",
       "        text-align: right;\n",
       "    }\n",
       "</style>\n",
       "<table border=\"1\" class=\"dataframe\">\n",
       "  <thead>\n",
       "    <tr style=\"text-align: right;\">\n",
       "      <th></th>\n",
       "      <th>Name</th>\n",
       "      <th>C++</th>\n",
       "      <th>Java</th>\n",
       "      <th>Python</th>\n",
       "      <th>DAV</th>\n",
       "      <th>DSA</th>\n",
       "      <th>Max Grade</th>\n",
       "      <th>Freq</th>\n",
       "    </tr>\n",
       "  </thead>\n",
       "  <tbody>\n",
       "    <tr>\n",
       "      <th>1</th>\n",
       "      <td>Harsh</td>\n",
       "      <td>F</td>\n",
       "      <td>B</td>\n",
       "      <td>A</td>\n",
       "      <td>F</td>\n",
       "      <td>F</td>\n",
       "      <td>A</td>\n",
       "      <td>[3, 1, 1]</td>\n",
       "    </tr>\n",
       "    <tr>\n",
       "      <th>2</th>\n",
       "      <td>Shashank</td>\n",
       "      <td>A</td>\n",
       "      <td>A</td>\n",
       "      <td>A</td>\n",
       "      <td>B</td>\n",
       "      <td>F</td>\n",
       "      <td>A</td>\n",
       "      <td>[3, 1, 1]</td>\n",
       "    </tr>\n",
       "    <tr>\n",
       "      <th>3</th>\n",
       "      <td>Animesh</td>\n",
       "      <td>E</td>\n",
       "      <td>F</td>\n",
       "      <td>F</td>\n",
       "      <td>F</td>\n",
       "      <td>F</td>\n",
       "      <td>E</td>\n",
       "      <td>[4, 1]</td>\n",
       "    </tr>\n",
       "    <tr>\n",
       "      <th>4</th>\n",
       "      <td>Robin</td>\n",
       "      <td>F</td>\n",
       "      <td>F</td>\n",
       "      <td>F</td>\n",
       "      <td>F</td>\n",
       "      <td>F</td>\n",
       "      <td>F</td>\n",
       "      <td>[5]</td>\n",
       "    </tr>\n",
       "    <tr>\n",
       "      <th>5</th>\n",
       "      <td>Jatin</td>\n",
       "      <td>E</td>\n",
       "      <td>F</td>\n",
       "      <td>B</td>\n",
       "      <td>E</td>\n",
       "      <td>A</td>\n",
       "      <td>A</td>\n",
       "      <td>[2, 1, 1, 1]</td>\n",
       "    </tr>\n",
       "  </tbody>\n",
       "</table>\n",
       "</div>"
      ],
      "text/plain": [
       "       Name C++ Java Python DAV DSA Max Grade          Freq\n",
       "1     Harsh   F    B      A   F   F         A     [3, 1, 1]\n",
       "2  Shashank   A    A      A   B   F         A     [3, 1, 1]\n",
       "3   Animesh   E    F      F   F   F         E        [4, 1]\n",
       "4     Robin   F    F      F   F   F         F           [5]\n",
       "5     Jatin   E    F      B   E   A         A  [2, 1, 1, 1]"
      ]
     },
     "execution_count": 151,
     "metadata": {},
     "output_type": "execute_result"
    }
   ],
   "source": [
    "newDf[\"Max Grade\"] = \"Z\"\n",
    "newDf[\"Freq\"] = \"Z\"\n",
    "for i in newDf.index:\n",
    "    newDf.loc[i, \"Max Grade\"] = min(newDf.loc[i][1:-2])\n",
    "    newDf.loc[i, \"Freq\"] = list(newDf.loc[i][1:-2].value_counts())\n",
    "newDf"
   ]
  }
 ],
 "metadata": {
  "kernelspec": {
   "display_name": "Python 3 (ipykernel)",
   "language": "python",
   "name": "python3"
  },
  "language_info": {
   "codemirror_mode": {
    "name": "ipython",
    "version": 3
   },
   "file_extension": ".py",
   "mimetype": "text/x-python",
   "name": "python",
   "nbconvert_exporter": "python",
   "pygments_lexer": "ipython3",
   "version": "3.10.7"
  }
 },
 "nbformat": 4,
 "nbformat_minor": 5
}
