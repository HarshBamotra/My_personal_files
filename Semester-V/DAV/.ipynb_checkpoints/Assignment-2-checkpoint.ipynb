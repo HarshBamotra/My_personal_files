{
 "cells": [
  {
   "cell_type": "markdown",
   "id": "9b7c5b2e",
   "metadata": {},
   "source": [
    "## Data Analysis and Visualisation\n",
    "\n",
    "**Name - Harsh Bamotra** <br>\n",
    "**Roll No. - AC-1216**"
   ]
  },
  {
   "cell_type": "code",
   "execution_count": 1,
   "id": "35d1ee97",
   "metadata": {},
   "outputs": [],
   "source": [
    "import numpy as np"
   ]
  },
  {
   "cell_type": "markdown",
   "id": "c6757790",
   "metadata": {},
   "source": [
    "**Q1. Given a list of names, use list comprehensionto reverse those names which starts with letter‘Z’ and ends with letter ‘a’.**"
   ]
  },
  {
   "cell_type": "code",
   "execution_count": 2,
   "id": "fcee7505",
   "metadata": {},
   "outputs": [],
   "source": [
    "names = [\"Harsh\", \"Robin\", \"Zaika\", \"Himanshu\", \"Zishana\"]"
   ]
  },
  {
   "cell_type": "code",
   "execution_count": 3,
   "id": "ce0f6045",
   "metadata": {},
   "outputs": [
    {
     "name": "stdout",
     "output_type": "stream",
     "text": [
      "['Harsh', 'Robin', 'akiaZ', 'Himanshu', 'anahsiZ']\n"
     ]
    }
   ],
   "source": [
    "print([i[::-1] if i[0] == \"Z\" and i[-1] == \"a\" else i for i in names])"
   ]
  },
  {
   "cell_type": "markdown",
   "id": "e8581f54",
   "metadata": {},
   "source": [
    "**Q2. Create an array formarks in 5 subjects for 6 students where marks are in (0-100). Take another array having names of 6 students.**"
   ]
  },
  {
   "cell_type": "code",
   "execution_count": 4,
   "id": "3b491014",
   "metadata": {},
   "outputs": [
    {
     "data": {
      "text/plain": [
       "array([[99, 92, 95, 99, 98],\n",
       "       [21, 66, 10, 43, 23],\n",
       "       [97,  9, 85,  8, 91],\n",
       "       [26, 97, 87, 15,  5],\n",
       "       [46, 74, 98, 66, 12],\n",
       "       [14,  0, 20, 69, 87]])"
      ]
     },
     "execution_count": 4,
     "metadata": {},
     "output_type": "execute_result"
    }
   ],
   "source": [
    "marks = np.array([[99, 92, 95, 99, 98],\n",
    "       [21, 66, 10, 43, 23],\n",
    "       [97,  9, 85,  8, 91],\n",
    "       [26, 97, 87, 15,  5],\n",
    "       [46, 74, 98, 66, 12],\n",
    "       [14,  0, 20, 69, 87]])\n",
    "marks"
   ]
  },
  {
   "cell_type": "code",
   "execution_count": 5,
   "id": "98745ed0",
   "metadata": {
    "scrolled": true
   },
   "outputs": [],
   "source": [
    "name = [\"Harsh\", \"Robin\", \"Zaika\", \"Himanshu\", \"Zishana\", \"Animesh\"]"
   ]
  },
  {
   "cell_type": "markdown",
   "id": "2746b6a9",
   "metadata": {},
   "source": [
    "**a. Find name of students with average marks > 90.**"
   ]
  },
  {
   "cell_type": "code",
   "execution_count": 6,
   "id": "8be74ef1",
   "metadata": {},
   "outputs": [
    {
     "name": "stdout",
     "output_type": "stream",
     "text": [
      "Students with average marks greater than 90 :: Harsh  "
     ]
    }
   ],
   "source": [
    "print(\"Students with average marks greater than 90 ::\", end=\" \")\n",
    "for i in range(len(name)):\n",
    "    if(np.mean(marks[i])>90):\n",
    "        print(name[i], end=\"  \")"
   ]
  },
  {
   "cell_type": "markdown",
   "id": "fecd8c7f",
   "metadata": {},
   "source": [
    "**b. Count number of studentshaving marks more than that of the average of class**"
   ]
  },
  {
   "cell_type": "code",
   "execution_count": 7,
   "id": "878674c3",
   "metadata": {},
   "outputs": [
    {
     "name": "stdout",
     "output_type": "stream",
     "text": [
      "Number of students with marks greater than average : 3\n"
     ]
    }
   ],
   "source": [
    "avg = np.mean(marks)\n",
    "count = 0\n",
    "for i in range(marks.shape[0]):\n",
    "    if(np.mean(marks[i]) > avg):\n",
    "        count+=1\n",
    "print(\"Number of students with marks greater than average :\", count)"
   ]
  },
  {
   "cell_type": "markdown",
   "id": "79196589",
   "metadata": {},
   "source": [
    "**c. For each student display the number of subjects in which they have scored > 60 marks and display the following:<br>\n",
    "Name of students &nbsp;&nbsp;&nbsp;&nbsp;   Number of subjects where marks > 60.**"
   ]
  },
  {
   "cell_type": "code",
   "execution_count": 8,
   "id": "73592a0c",
   "metadata": {},
   "outputs": [
    {
     "name": "stdout",
     "output_type": "stream",
     "text": [
      "0 Harsh 5\n",
      "1 Robin 1\n",
      "2 Zaika 3\n",
      "3 Himanshu 2\n",
      "4 Zishana 3\n",
      "5 Animesh 2\n"
     ]
    }
   ],
   "source": [
    "for i,v in enumerate(marks):\n",
    "    count = 0\n",
    "    for j in v:\n",
    "        if(j > 60):\n",
    "            count+=1\n",
    "    print(\"{0} {1} {2}\".format(i, name[i], count))"
   ]
  },
  {
   "cell_type": "markdown",
   "id": "396e2cb4",
   "metadata": {},
   "source": [
    "**Q3. Create a 3x4 array of random numbers. Write two ways to set its second row to zero and third row to maximum value in the original matrix.**"
   ]
  },
  {
   "cell_type": "code",
   "execution_count": 9,
   "id": "e7139d0f",
   "metadata": {
    "scrolled": false
   },
   "outputs": [
    {
     "data": {
      "text/plain": [
       "array([[0.20266963, 0.81255924, 0.65031176, 0.52107902],\n",
       "       [0.28746477, 0.04713396, 0.47927348, 0.31533846],\n",
       "       [0.07235038, 0.81895687, 0.80031706, 0.71097043]])"
      ]
     },
     "execution_count": 9,
     "metadata": {},
     "output_type": "execute_result"
    }
   ],
   "source": [
    "arr = np.array(np.random.rand(12).reshape(3,4))\n",
    "arr"
   ]
  },
  {
   "cell_type": "markdown",
   "id": "5d77a9f8",
   "metadata": {},
   "source": [
    "**First way**"
   ]
  },
  {
   "cell_type": "code",
   "execution_count": 10,
   "id": "10b15f07",
   "metadata": {},
   "outputs": [
    {
     "data": {
      "text/plain": [
       "array([[0.20266963, 0.81255924, 0.65031176, 0.52107902],\n",
       "       [0.        , 0.        , 0.        , 0.        ],\n",
       "       [0.81895687, 0.81895687, 0.81895687, 0.81895687]])"
      ]
     },
     "execution_count": 10,
     "metadata": {},
     "output_type": "execute_result"
    }
   ],
   "source": [
    "arr[1] = 0\n",
    "arr[2] = np.max(arr)\n",
    "arr"
   ]
  },
  {
   "cell_type": "markdown",
   "id": "2fbe87f0",
   "metadata": {},
   "source": [
    "**Second way**"
   ]
  },
  {
   "cell_type": "code",
   "execution_count": 11,
   "id": "5b31f048",
   "metadata": {},
   "outputs": [
    {
     "data": {
      "text/plain": [
       "array([[0.20266963, 0.81255924, 0.65031176, 0.52107902],\n",
       "       [0.        , 0.        , 0.        , 0.        ],\n",
       "       [0.81895687, 0.81895687, 0.81895687, 0.81895687]])"
      ]
     },
     "execution_count": 11,
     "metadata": {},
     "output_type": "execute_result"
    }
   ],
   "source": [
    "arr[[1]][:,:] = 0\n",
    "arr[[2]][:,:] = np.max(arr)\n",
    "arr"
   ]
  },
  {
   "cell_type": "markdown",
   "id": "502502e4",
   "metadata": {},
   "source": [
    "**Q4. Write a lambda function which takes an element x, and returns the reverse of the element in uppercases. Make sure element passed must be of string typeelse raise exception.**"
   ]
  },
  {
   "cell_type": "code",
   "execution_count": 12,
   "id": "541c403d",
   "metadata": {},
   "outputs": [],
   "source": [
    "ReverseUpper = lambda x: x[::-1].upper() if type(x) == str else print(\"Error: Not a string !!\")"
   ]
  },
  {
   "cell_type": "code",
   "execution_count": 13,
   "id": "df1a8542",
   "metadata": {},
   "outputs": [
    {
     "data": {
      "text/plain": [
       "'ARTOMAB HSRAH'"
      ]
     },
     "execution_count": 13,
     "metadata": {},
     "output_type": "execute_result"
    }
   ],
   "source": [
    "ReverseUpper(\"Harsh Bamotra\")"
   ]
  },
  {
   "cell_type": "code",
   "execution_count": 14,
   "id": "8ad812d8",
   "metadata": {},
   "outputs": [
    {
     "name": "stdout",
     "output_type": "stream",
     "text": [
      "Error: Not a string !!\n"
     ]
    }
   ],
   "source": [
    "ReverseUpper(123)"
   ]
  }
 ],
 "metadata": {
  "kernelspec": {
   "display_name": "Python 3 (ipykernel)",
   "language": "python",
   "name": "python3"
  },
  "language_info": {
   "codemirror_mode": {
    "name": "ipython",
    "version": 3
   },
   "file_extension": ".py",
   "mimetype": "text/x-python",
   "name": "python",
   "nbconvert_exporter": "python",
   "pygments_lexer": "ipython3",
   "version": "3.10.5"
  }
 },
 "nbformat": 4,
 "nbformat_minor": 5
}
