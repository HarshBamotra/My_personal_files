{
 "cells": [
  {
   "cell_type": "markdown",
   "id": "9b7c5b2e",
   "metadata": {},
   "source": [
    "## Data Analysis and Visualisation\n",
    "\n",
    "**Name - Harsh Bamotra** <br>\n",
    "**Roll No. - AC-1216**"
   ]
  },
  {
   "cell_type": "markdown",
   "id": "c6757790",
   "metadata": {},
   "source": [
    "**Q1. Find weather all elements in list are numbers or not.**"
   ]
  },
  {
   "cell_type": "code",
   "execution_count": 7,
   "id": "fcee7505",
   "metadata": {},
   "outputs": [],
   "source": [
    "def CheckNumeric(l):\n",
    "    f = True\n",
    "    for i in l:\n",
    "        if(not str(i).isnumeric()):\n",
    "            f = False\n",
    "    return f        "
   ]
  },
  {
   "cell_type": "code",
   "execution_count": 28,
   "id": "ce0f6045",
   "metadata": {},
   "outputs": [
    {
     "name": "stdout",
     "output_type": "stream",
     "text": [
      "Enter the list ::[1, 2, 3, 4]\n"
     ]
    },
    {
     "data": {
      "text/plain": [
       "True"
      ]
     },
     "execution_count": 28,
     "metadata": {},
     "output_type": "execute_result"
    }
   ],
   "source": [
    "l = eval(input(\"Enter the list ::\"))\n",
    "CheckNumeric(l)"
   ]
  },
  {
   "cell_type": "markdown",
   "id": "e8581f54",
   "metadata": {},
   "source": [
    "**Q2. If numeric list then count number of odd values in it.**"
   ]
  },
  {
   "cell_type": "code",
   "execution_count": 11,
   "id": "3b491014",
   "metadata": {},
   "outputs": [],
   "source": [
    "def countOdd(l):\n",
    "    c=0\n",
    "    for i in l:\n",
    "        if(i%2 != 0):\n",
    "            c+=1\n",
    "    return c"
   ]
  },
  {
   "cell_type": "code",
   "execution_count": 30,
   "id": "98745ed0",
   "metadata": {
    "scrolled": true
   },
   "outputs": [
    {
     "name": "stdout",
     "output_type": "stream",
     "text": [
      "Enter the list ::[1, 2, 3, 4]\n"
     ]
    },
    {
     "data": {
      "text/plain": [
       "2"
      ]
     },
     "execution_count": 30,
     "metadata": {},
     "output_type": "execute_result"
    }
   ],
   "source": [
    "l = eval(input(\"Enter the list ::\"))\n",
    "countOdd(l)"
   ]
  },
  {
   "cell_type": "markdown",
   "id": "396e2cb4",
   "metadata": {},
   "source": [
    "**Q3. If string then display the largest string in the list**"
   ]
  },
  {
   "cell_type": "code",
   "execution_count": 15,
   "id": "6b7a1418",
   "metadata": {},
   "outputs": [],
   "source": [
    "def Largest(arr):\n",
    "    largest = arr[0]\n",
    "    for i in range(len(l)):\n",
    "        if(len(arr[i]) > len(largest)):\n",
    "            largest = arr[i]\n",
    "    return largest"
   ]
  },
  {
   "cell_type": "code",
   "execution_count": 31,
   "id": "aa715e71",
   "metadata": {
    "scrolled": true
   },
   "outputs": [
    {
     "name": "stdout",
     "output_type": "stream",
     "text": [
      "Enter the list ::[\"aaa\", \"a\", \"aa\"]\n"
     ]
    },
    {
     "data": {
      "text/plain": [
       "'aaa'"
      ]
     },
     "execution_count": 31,
     "metadata": {},
     "output_type": "execute_result"
    }
   ],
   "source": [
    "l = eval(input(\"Enter the list ::\"))\n",
    "Largest(l)"
   ]
  },
  {
   "cell_type": "markdown",
   "id": "ac7ce539",
   "metadata": {},
   "source": [
    "**Q4. If all elements are strings then count numeric string and string with alphabets**"
   ]
  },
  {
   "cell_type": "code",
   "execution_count": 19,
   "id": "2b74f470",
   "metadata": {},
   "outputs": [],
   "source": [
    "def Count(arr):\n",
    "    cs = 0\n",
    "    cn = 0\n",
    "    for i in arr:\n",
    "        if(str(i).isnumeric()):\n",
    "            cs+=1\n",
    "        elif(str(i).isalpha()):\n",
    "            cn+=1\n",
    "        else:\n",
    "            pass\n",
    "    return [cs, cn]"
   ]
  },
  {
   "cell_type": "code",
   "execution_count": 34,
   "id": "ef0af108",
   "metadata": {},
   "outputs": [
    {
     "name": "stdout",
     "output_type": "stream",
     "text": [
      "Enter the list ::[\"a\", \"a\", \"b\", \"b\", 1, 4, 0]\n",
      "Number of alphabets are 4 and number of digits are 3 .\n"
     ]
    }
   ],
   "source": [
    "l = eval(input(\"Enter the list ::\"))\n",
    "print(\"Number of alphabets are\", Count(l)[1], \"and number of digits are\", Count(l)[0], \".\")"
   ]
  },
  {
   "cell_type": "markdown",
   "id": "ad9b182d",
   "metadata": {},
   "source": [
    "**Q5. Create a dictionary to keep track of count of distinct elements in the list**"
   ]
  },
  {
   "cell_type": "code",
   "execution_count": 25,
   "id": "d3a5a3b1",
   "metadata": {},
   "outputs": [],
   "source": [
    "def CountDistinct(arr):\n",
    "    d = {}\n",
    "    for i in arr:\n",
    "        d[i] = arr.count(i)\n",
    "    return d"
   ]
  },
  {
   "cell_type": "code",
   "execution_count": 35,
   "id": "c369c68e",
   "metadata": {
    "scrolled": false
   },
   "outputs": [
    {
     "name": "stdout",
     "output_type": "stream",
     "text": [
      "Enter the list ::[\"a\", \"a\", \"b\", \"b\", \"c\"]\n"
     ]
    },
    {
     "data": {
      "text/plain": [
       "{'a': 2, 'b': 2, 'c': 1}"
      ]
     },
     "execution_count": 35,
     "metadata": {},
     "output_type": "execute_result"
    }
   ],
   "source": [
    "l = eval(input(\"Enter the list ::\"))\n",
    "CountDistinct(l)"
   ]
  },
  {
   "cell_type": "markdown",
   "id": "22e631dd",
   "metadata": {},
   "source": [
    "**Function to check if all elements are string**"
   ]
  },
  {
   "cell_type": "code",
   "execution_count": 36,
   "id": "be92f7a8",
   "metadata": {},
   "outputs": [],
   "source": [
    "def CheckAlpha(l):\n",
    "    f = True\n",
    "    for i in l:\n",
    "        if(not str(i).isalpha()):\n",
    "            f = False\n",
    "    return f   "
   ]
  },
  {
   "cell_type": "markdown",
   "id": "5fd18686",
   "metadata": {},
   "source": [
    "**Do all stuff based on list**"
   ]
  },
  {
   "cell_type": "code",
   "execution_count": 37,
   "id": "66903fa6",
   "metadata": {},
   "outputs": [],
   "source": [
    "def doSomething(l):\n",
    "    if(CheckNumeric(l)):\n",
    "        print(\"Number of odd values in the list ::\", countOdd(l))\n",
    "    elif(CheckAlpha(l)):\n",
    "        print(\"The largest string in the list ::\", Largest(l))\n",
    "    else:\n",
    "        print(\"Number of alphabets are\", Count(l)[1], \"and number of digits are\", Count(l)[0], \".\")\n",
    "    print(\"Distinct elements ::\", CountDistinct(l))"
   ]
  },
  {
   "cell_type": "code",
   "execution_count": 38,
   "id": "66b77e8d",
   "metadata": {},
   "outputs": [
    {
     "name": "stdout",
     "output_type": "stream",
     "text": [
      "Enter the list ::[1, 1, 3, 4]\n",
      "Number of odd values in the list :: 3\n",
      "Distinct elements :: {1: 2, 3: 1, 4: 1}\n"
     ]
    }
   ],
   "source": [
    "l = eval(input(\"Enter the list ::\"))\n",
    "doSomething(l)"
   ]
  },
  {
   "cell_type": "code",
   "execution_count": 39,
   "id": "3b25ea26",
   "metadata": {},
   "outputs": [
    {
     "name": "stdout",
     "output_type": "stream",
     "text": [
      "Enter the list ::[\"a\", \"bb\", \"Harsh\"]\n",
      "The largest string in the list :: Harsh\n",
      "Distinct elements :: {'a': 1, 'bb': 1, 'Harsh': 1}\n"
     ]
    }
   ],
   "source": [
    "l = eval(input(\"Enter the list ::\"))\n",
    "doSomething(l)"
   ]
  },
  {
   "cell_type": "code",
   "execution_count": 40,
   "id": "c4672d7e",
   "metadata": {},
   "outputs": [
    {
     "name": "stdout",
     "output_type": "stream",
     "text": [
      "Enter the list ::[\"a\", \"bb\", \"Harsh\", 1, 1, 3, 4]\n",
      "Number of alphabets are 3 and number of digits are 4 .\n",
      "Distinct elements :: {'a': 1, 'bb': 1, 'Harsh': 1, 1: 2, 3: 1, 4: 1}\n"
     ]
    }
   ],
   "source": [
    "l = eval(input(\"Enter the list ::\"))\n",
    "doSomething(l)"
   ]
  }
 ],
 "metadata": {
  "kernelspec": {
   "display_name": "Python 3 (ipykernel)",
   "language": "python",
   "name": "python3"
  },
  "language_info": {
   "codemirror_mode": {
    "name": "ipython",
    "version": 3
   },
   "file_extension": ".py",
   "mimetype": "text/x-python",
   "name": "python",
   "nbconvert_exporter": "python",
   "pygments_lexer": "ipython3",
   "version": "3.10.5"
  }
 },
 "nbformat": 4,
 "nbformat_minor": 5
}
