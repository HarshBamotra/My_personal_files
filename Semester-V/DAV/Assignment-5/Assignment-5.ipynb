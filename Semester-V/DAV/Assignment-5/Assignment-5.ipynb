{
 "cells": [
  {
   "cell_type": "markdown",
   "id": "8475379d",
   "metadata": {},
   "source": [
    "## Data Analysis and Visualisation\n",
    "\n",
    "**Name - Harsh Bamotra** <br>\n",
    "**Roll No. - AC-1216**"
   ]
  },
  {
   "cell_type": "code",
   "execution_count": 1,
   "id": "03680a20",
   "metadata": {},
   "outputs": [],
   "source": [
    "import numpy as np\n",
    "import pandas as pd\n",
    "import matplotlib.pyplot as plt\n",
    "import seaborn as sns"
   ]
  },
  {
   "cell_type": "markdown",
   "id": "5d6da62d",
   "metadata": {},
   "source": [
    "**Q1. Consider the following data frame containing family names, gender of the family member and her/his monthly income in each record.** "
   ]
  },
  {
   "cell_type": "code",
   "execution_count": 2,
   "id": "78dc6e93",
   "metadata": {},
   "outputs": [
    {
     "data": {
      "text/html": [
       "<div>\n",
       "<style scoped>\n",
       "    .dataframe tbody tr th:only-of-type {\n",
       "        vertical-align: middle;\n",
       "    }\n",
       "\n",
       "    .dataframe tbody tr th {\n",
       "        vertical-align: top;\n",
       "    }\n",
       "\n",
       "    .dataframe thead th {\n",
       "        text-align: right;\n",
       "    }\n",
       "</style>\n",
       "<table border=\"1\" class=\"dataframe\">\n",
       "  <thead>\n",
       "    <tr style=\"text-align: right;\">\n",
       "      <th></th>\n",
       "      <th>Name</th>\n",
       "      <th>Gender</th>\n",
       "      <th>MonthlyIncome</th>\n",
       "    </tr>\n",
       "  </thead>\n",
       "  <tbody>\n",
       "    <tr>\n",
       "      <th>0</th>\n",
       "      <td>Shah</td>\n",
       "      <td>Male</td>\n",
       "      <td>114000</td>\n",
       "    </tr>\n",
       "    <tr>\n",
       "      <th>1</th>\n",
       "      <td>Vats</td>\n",
       "      <td>Male</td>\n",
       "      <td>65000</td>\n",
       "    </tr>\n",
       "    <tr>\n",
       "      <th>2</th>\n",
       "      <td>Vats</td>\n",
       "      <td>Female</td>\n",
       "      <td>43150</td>\n",
       "    </tr>\n",
       "    <tr>\n",
       "      <th>3</th>\n",
       "      <td>Kumar</td>\n",
       "      <td>Female</td>\n",
       "      <td>69500</td>\n",
       "    </tr>\n",
       "    <tr>\n",
       "      <th>4</th>\n",
       "      <td>Vats</td>\n",
       "      <td>Female</td>\n",
       "      <td>155000</td>\n",
       "    </tr>\n",
       "    <tr>\n",
       "      <th>5</th>\n",
       "      <td>Kumar</td>\n",
       "      <td>Male</td>\n",
       "      <td>103000</td>\n",
       "    </tr>\n",
       "    <tr>\n",
       "      <th>6</th>\n",
       "      <td>Shah</td>\n",
       "      <td>Male</td>\n",
       "      <td>55000</td>\n",
       "    </tr>\n",
       "    <tr>\n",
       "      <th>7</th>\n",
       "      <td>Shah</td>\n",
       "      <td>Female</td>\n",
       "      <td>112400</td>\n",
       "    </tr>\n",
       "    <tr>\n",
       "      <th>8</th>\n",
       "      <td>Kumar</td>\n",
       "      <td>Female</td>\n",
       "      <td>81030</td>\n",
       "    </tr>\n",
       "    <tr>\n",
       "      <th>9</th>\n",
       "      <td>Vats</td>\n",
       "      <td>Male</td>\n",
       "      <td>71900</td>\n",
       "    </tr>\n",
       "  </tbody>\n",
       "</table>\n",
       "</div>"
      ],
      "text/plain": [
       "    Name  Gender  MonthlyIncome\n",
       "0   Shah    Male         114000\n",
       "1   Vats    Male          65000\n",
       "2   Vats  Female          43150\n",
       "3  Kumar  Female          69500\n",
       "4   Vats  Female         155000\n",
       "5  Kumar    Male         103000\n",
       "6   Shah    Male          55000\n",
       "7   Shah  Female         112400\n",
       "8  Kumar  Female          81030\n",
       "9   Vats    Male          71900"
      ]
     },
     "execution_count": 2,
     "metadata": {},
     "output_type": "execute_result"
    }
   ],
   "source": [
    "df = pd.read_csv(\"Family.csv\")\n",
    "df"
   ]
  },
  {
   "cell_type": "markdown",
   "id": "eae5d4b2",
   "metadata": {},
   "source": [
    "**a) Calculate and display family wise gross monthly income.**"
   ]
  },
  {
   "cell_type": "code",
   "execution_count": 3,
   "id": "11367fe6",
   "metadata": {},
   "outputs": [
    {
     "data": {
      "text/html": [
       "<div>\n",
       "<style scoped>\n",
       "    .dataframe tbody tr th:only-of-type {\n",
       "        vertical-align: middle;\n",
       "    }\n",
       "\n",
       "    .dataframe tbody tr th {\n",
       "        vertical-align: top;\n",
       "    }\n",
       "\n",
       "    .dataframe thead th {\n",
       "        text-align: right;\n",
       "    }\n",
       "</style>\n",
       "<table border=\"1\" class=\"dataframe\">\n",
       "  <thead>\n",
       "    <tr style=\"text-align: right;\">\n",
       "      <th></th>\n",
       "      <th>Gross Income</th>\n",
       "    </tr>\n",
       "    <tr>\n",
       "      <th>Name</th>\n",
       "      <th></th>\n",
       "    </tr>\n",
       "  </thead>\n",
       "  <tbody>\n",
       "    <tr>\n",
       "      <th>Kumar</th>\n",
       "      <td>253530</td>\n",
       "    </tr>\n",
       "    <tr>\n",
       "      <th>Shah</th>\n",
       "      <td>281400</td>\n",
       "    </tr>\n",
       "    <tr>\n",
       "      <th>Vats</th>\n",
       "      <td>335050</td>\n",
       "    </tr>\n",
       "  </tbody>\n",
       "</table>\n",
       "</div>"
      ],
      "text/plain": [
       "       Gross Income\n",
       "Name               \n",
       "Kumar        253530\n",
       "Shah         281400\n",
       "Vats         335050"
      ]
     },
     "execution_count": 3,
     "metadata": {},
     "output_type": "execute_result"
    }
   ],
   "source": [
    "result = df.groupby([\"Name\"]).sum(\"MonthlyIncome\")\n",
    "result.rename(columns = {\"MonthlyIncome\":\"Gross Income\"}, inplace = True)\n",
    "result"
   ]
  },
  {
   "cell_type": "markdown",
   "id": "207c639e",
   "metadata": {},
   "source": [
    "**b) Calculate and display the member with the highest monthly income in a family.**"
   ]
  },
  {
   "cell_type": "code",
   "execution_count": 4,
   "id": "f284cad4",
   "metadata": {},
   "outputs": [
    {
     "data": {
      "text/html": [
       "<div>\n",
       "<style scoped>\n",
       "    .dataframe tbody tr th:only-of-type {\n",
       "        vertical-align: middle;\n",
       "    }\n",
       "\n",
       "    .dataframe tbody tr th {\n",
       "        vertical-align: top;\n",
       "    }\n",
       "\n",
       "    .dataframe thead th {\n",
       "        text-align: right;\n",
       "    }\n",
       "</style>\n",
       "<table border=\"1\" class=\"dataframe\">\n",
       "  <thead>\n",
       "    <tr style=\"text-align: right;\">\n",
       "      <th></th>\n",
       "      <th>Gender</th>\n",
       "      <th>Maximum Income</th>\n",
       "    </tr>\n",
       "    <tr>\n",
       "      <th>Name</th>\n",
       "      <th></th>\n",
       "      <th></th>\n",
       "    </tr>\n",
       "  </thead>\n",
       "  <tbody>\n",
       "    <tr>\n",
       "      <th>Kumar</th>\n",
       "      <td>Male</td>\n",
       "      <td>103000</td>\n",
       "    </tr>\n",
       "    <tr>\n",
       "      <th>Shah</th>\n",
       "      <td>Male</td>\n",
       "      <td>114000</td>\n",
       "    </tr>\n",
       "    <tr>\n",
       "      <th>Vats</th>\n",
       "      <td>Male</td>\n",
       "      <td>155000</td>\n",
       "    </tr>\n",
       "  </tbody>\n",
       "</table>\n",
       "</div>"
      ],
      "text/plain": [
       "      Gender  Maximum Income\n",
       "Name                        \n",
       "Kumar   Male          103000\n",
       "Shah    Male          114000\n",
       "Vats    Male          155000"
      ]
     },
     "execution_count": 4,
     "metadata": {},
     "output_type": "execute_result"
    }
   ],
   "source": [
    "result = df.groupby([\"Name\"]).max()\n",
    "result.rename(columns = {\"MonthlyIncome\":\"Maximum Income\"}, inplace = True)\n",
    "result"
   ]
  },
  {
   "cell_type": "markdown",
   "id": "45ad2568",
   "metadata": {},
   "source": [
    "**c) Calculate and display monthly income of all members with income greater than Rs. 60000.**"
   ]
  },
  {
   "cell_type": "code",
   "execution_count": 5,
   "id": "b5e2b5f1",
   "metadata": {},
   "outputs": [
    {
     "data": {
      "text/html": [
       "<div>\n",
       "<style scoped>\n",
       "    .dataframe tbody tr th:only-of-type {\n",
       "        vertical-align: middle;\n",
       "    }\n",
       "\n",
       "    .dataframe tbody tr th {\n",
       "        vertical-align: top;\n",
       "    }\n",
       "\n",
       "    .dataframe thead th {\n",
       "        text-align: right;\n",
       "    }\n",
       "</style>\n",
       "<table border=\"1\" class=\"dataframe\">\n",
       "  <thead>\n",
       "    <tr style=\"text-align: right;\">\n",
       "      <th></th>\n",
       "      <th>Name</th>\n",
       "      <th>Gender</th>\n",
       "      <th>MonthlyIncome</th>\n",
       "    </tr>\n",
       "  </thead>\n",
       "  <tbody>\n",
       "    <tr>\n",
       "      <th>0</th>\n",
       "      <td>Shah</td>\n",
       "      <td>Male</td>\n",
       "      <td>114000</td>\n",
       "    </tr>\n",
       "    <tr>\n",
       "      <th>1</th>\n",
       "      <td>Vats</td>\n",
       "      <td>Male</td>\n",
       "      <td>65000</td>\n",
       "    </tr>\n",
       "    <tr>\n",
       "      <th>3</th>\n",
       "      <td>Kumar</td>\n",
       "      <td>Female</td>\n",
       "      <td>69500</td>\n",
       "    </tr>\n",
       "    <tr>\n",
       "      <th>4</th>\n",
       "      <td>Vats</td>\n",
       "      <td>Female</td>\n",
       "      <td>155000</td>\n",
       "    </tr>\n",
       "    <tr>\n",
       "      <th>5</th>\n",
       "      <td>Kumar</td>\n",
       "      <td>Male</td>\n",
       "      <td>103000</td>\n",
       "    </tr>\n",
       "    <tr>\n",
       "      <th>7</th>\n",
       "      <td>Shah</td>\n",
       "      <td>Female</td>\n",
       "      <td>112400</td>\n",
       "    </tr>\n",
       "    <tr>\n",
       "      <th>8</th>\n",
       "      <td>Kumar</td>\n",
       "      <td>Female</td>\n",
       "      <td>81030</td>\n",
       "    </tr>\n",
       "    <tr>\n",
       "      <th>9</th>\n",
       "      <td>Vats</td>\n",
       "      <td>Male</td>\n",
       "      <td>71900</td>\n",
       "    </tr>\n",
       "  </tbody>\n",
       "</table>\n",
       "</div>"
      ],
      "text/plain": [
       "    Name  Gender  MonthlyIncome\n",
       "0   Shah    Male         114000\n",
       "1   Vats    Male          65000\n",
       "3  Kumar  Female          69500\n",
       "4   Vats  Female         155000\n",
       "5  Kumar    Male         103000\n",
       "7   Shah  Female         112400\n",
       "8  Kumar  Female          81030\n",
       "9   Vats    Male          71900"
      ]
     },
     "execution_count": 5,
     "metadata": {},
     "output_type": "execute_result"
    }
   ],
   "source": [
    "df[df[\"MonthlyIncome\"] > 60000]"
   ]
  },
  {
   "cell_type": "markdown",
   "id": "b51267a7",
   "metadata": {},
   "source": [
    "**d) Calculate and display the average monthly income of the female members in the Shah family.**"
   ]
  },
  {
   "cell_type": "code",
   "execution_count": 6,
   "id": "fd5e9d08",
   "metadata": {},
   "outputs": [
    {
     "data": {
      "text/html": [
       "<div>\n",
       "<style scoped>\n",
       "    .dataframe tbody tr th:only-of-type {\n",
       "        vertical-align: middle;\n",
       "    }\n",
       "\n",
       "    .dataframe tbody tr th {\n",
       "        vertical-align: top;\n",
       "    }\n",
       "\n",
       "    .dataframe thead th {\n",
       "        text-align: right;\n",
       "    }\n",
       "</style>\n",
       "<table border=\"1\" class=\"dataframe\">\n",
       "  <thead>\n",
       "    <tr style=\"text-align: right;\">\n",
       "      <th></th>\n",
       "      <th>MonthlyIncome</th>\n",
       "    </tr>\n",
       "    <tr>\n",
       "      <th>Name</th>\n",
       "      <th></th>\n",
       "    </tr>\n",
       "  </thead>\n",
       "  <tbody>\n",
       "    <tr>\n",
       "      <th>Shah</th>\n",
       "      <td>112400.0</td>\n",
       "    </tr>\n",
       "  </tbody>\n",
       "</table>\n",
       "</div>"
      ],
      "text/plain": [
       "      MonthlyIncome\n",
       "Name               \n",
       "Shah       112400.0"
      ]
     },
     "execution_count": 6,
     "metadata": {},
     "output_type": "execute_result"
    }
   ],
   "source": [
    "df[(df[\"Gender\"] == \"Female\") & (df[\"Name\"] == \"Shah\")].groupby([\"Name\"]).mean(\"Mean\")"
   ]
  },
  {
   "cell_type": "markdown",
   "id": "c4edca91",
   "metadata": {},
   "source": [
    "**e) Find the family name in which females average income is maximum.**"
   ]
  },
  {
   "cell_type": "code",
   "execution_count": 7,
   "id": "7416be12",
   "metadata": {},
   "outputs": [
    {
     "name": "stdout",
     "output_type": "stream",
     "text": [
      "The family with maximum average income :: Shah\n"
     ]
    }
   ],
   "source": [
    "print(\"The family with maximum average income ::\", df[df[\"Gender\"] == \"Female\"].groupby([\"Name\"]).mean(\"Mean\").idxmax()[0])"
   ]
  },
  {
   "cell_type": "markdown",
   "id": "7142a594",
   "metadata": {},
   "source": [
    "**f) Compare member count and average income for each family using appropriate plot.**"
   ]
  },
  {
   "cell_type": "code",
   "execution_count": 8,
   "id": "1cafdc8f",
   "metadata": {},
   "outputs": [
    {
     "data": {
      "text/plain": [
       "[]"
      ]
     },
     "execution_count": 8,
     "metadata": {},
     "output_type": "execute_result"
    },
    {
     "data": {
      "image/png": "[encoded data removed]",
      "text/plain": [
       "<Figure size 640x480 with 1 Axes>"
      ]
     },
     "metadata": {},
     "output_type": "display_data"
    }
   ],
   "source": [
    "count = df.groupby([\"Name\"]).count()[\"Gender\"]\n",
    "avgincome = df.groupby([\"Name\"]).mean(\"Average Income\")[\"MonthlyIncome\"]/10000\n",
    "plt.bar(np.arange(len(count)) - 0.1, count, width = 0.2, label = \"Family Count\")\n",
    "plt.bar(np.arange(len(count)) + 0.1, avgincome, color = \"orange\" , width = 0.2, label = \"Income\")\n",
    "plt.xticks(np.arange(len(count)), count.keys())\n",
    "plt.title(\"No. of members VS Average Income\")\n",
    "plt.xlabel(\"Family Name\")\n",
    "plt.ylabel(\"For income 1 unit = 10000 Rs.\")\n",
    "plt.legend()\n",
    "plt.plot()"
   ]
  },
  {
   "cell_type": "markdown",
   "id": "14f93197",
   "metadata": {},
   "source": [
    "**g) Draw a pie chart for each family to show their income distribution gender wise.**"
   ]
  },
  {
   "cell_type": "code",
   "execution_count": 9,
   "id": "da6f5cc7",
   "metadata": {},
   "outputs": [
    {
     "data": {
      "text/html": [
       "<div>\n",
       "<style scoped>\n",
       "    .dataframe tbody tr th:only-of-type {\n",
       "        vertical-align: middle;\n",
       "    }\n",
       "\n",
       "    .dataframe tbody tr th {\n",
       "        vertical-align: top;\n",
       "    }\n",
       "\n",
       "    .dataframe thead th {\n",
       "        text-align: right;\n",
       "    }\n",
       "</style>\n",
       "<table border=\"1\" class=\"dataframe\">\n",
       "  <thead>\n",
       "    <tr style=\"text-align: right;\">\n",
       "      <th></th>\n",
       "      <th>Name</th>\n",
       "      <th>Gender</th>\n",
       "      <th>MonthlyIncome</th>\n",
       "    </tr>\n",
       "  </thead>\n",
       "  <tbody>\n",
       "    <tr>\n",
       "      <th>0</th>\n",
       "      <td>Kumar</td>\n",
       "      <td>Female</td>\n",
       "      <td>150530</td>\n",
       "    </tr>\n",
       "    <tr>\n",
       "      <th>1</th>\n",
       "      <td>Kumar</td>\n",
       "      <td>Male</td>\n",
       "      <td>103000</td>\n",
       "    </tr>\n",
       "    <tr>\n",
       "      <th>2</th>\n",
       "      <td>Shah</td>\n",
       "      <td>Female</td>\n",
       "      <td>112400</td>\n",
       "    </tr>\n",
       "    <tr>\n",
       "      <th>3</th>\n",
       "      <td>Shah</td>\n",
       "      <td>Male</td>\n",
       "      <td>169000</td>\n",
       "    </tr>\n",
       "    <tr>\n",
       "      <th>4</th>\n",
       "      <td>Vats</td>\n",
       "      <td>Female</td>\n",
       "      <td>198150</td>\n",
       "    </tr>\n",
       "    <tr>\n",
       "      <th>5</th>\n",
       "      <td>Vats</td>\n",
       "      <td>Male</td>\n",
       "      <td>136900</td>\n",
       "    </tr>\n",
       "  </tbody>\n",
       "</table>\n",
       "</div>"
      ],
      "text/plain": [
       "    Name  Gender  MonthlyIncome\n",
       "0  Kumar  Female         150530\n",
       "1  Kumar    Male         103000\n",
       "2   Shah  Female         112400\n",
       "3   Shah    Male         169000\n",
       "4   Vats  Female         198150\n",
       "5   Vats    Male         136900"
      ]
     },
     "execution_count": 9,
     "metadata": {},
     "output_type": "execute_result"
    }
   ],
   "source": [
    "result = df.groupby([\"Name\", \"Gender\"]).sum().reset_index()\n",
    "result"
   ]
  },
  {
   "cell_type": "code",
   "execution_count": 10,
   "id": "8ed68ffd",
   "metadata": {},
   "outputs": [
    {
     "data": {
      "image/png": "[encoded data removed]",
      "text/plain": [
       "<Figure size 640x480 with 1 Axes>"
      ]
     },
     "metadata": {},
     "output_type": "display_data"
    },
    {
     "name": "stdout",
     "output_type": "stream",
     "text": [
      "_____________________________________________________\n"
     ]
    },
    {
     "data": {
      "image/png": "[encoded data removed]",
      "text/plain": [
       "<Figure size 640x480 with 1 Axes>"
      ]
     },
     "metadata": {},
     "output_type": "display_data"
    },
    {
     "name": "stdout",
     "output_type": "stream",
     "text": [
      "_____________________________________________________\n"
     ]
    },
    {
     "data": {
      "image/png": "[encoded data removed]",
      "text/plain": [
       "<Figure size 640x480 with 1 Axes>"
      ]
     },
     "metadata": {},
     "output_type": "display_data"
    }
   ],
   "source": [
    "for i in range(0, len(result), 2):\n",
    "    plt.pie([result.iloc[i, 2], result.iloc[i+1, 2]], labels = [\"Female\", \"Male\"], explode = [0.05, 0], startangle = 90)\n",
    "    plt.title(result.iloc[i, 0])\n",
    "    plt.show()\n",
    "    if(i < 4):\n",
    "        print(\"_____________________________________________________\")"
   ]
  },
  {
   "cell_type": "markdown",
   "id": "26c38d89",
   "metadata": {},
   "source": [
    "**Q2. Use tips data to do the following: see appropriate parameters for figs/plots.**"
   ]
  },
  {
   "cell_type": "code",
   "execution_count": 11,
   "id": "9dd8d4fa",
   "metadata": {},
   "outputs": [
    {
     "data": {
      "text/html": [
       "<div>\n",
       "<style scoped>\n",
       "    .dataframe tbody tr th:only-of-type {\n",
       "        vertical-align: middle;\n",
       "    }\n",
       "\n",
       "    .dataframe tbody tr th {\n",
       "        vertical-align: top;\n",
       "    }\n",
       "\n",
       "    .dataframe thead th {\n",
       "        text-align: right;\n",
       "    }\n",
       "</style>\n",
       "<table border=\"1\" class=\"dataframe\">\n",
       "  <thead>\n",
       "    <tr style=\"text-align: right;\">\n",
       "      <th></th>\n",
       "      <th>total_bill</th>\n",
       "      <th>tip</th>\n",
       "      <th>sex</th>\n",
       "      <th>smoker</th>\n",
       "      <th>day</th>\n",
       "      <th>time</th>\n",
       "      <th>size</th>\n",
       "    </tr>\n",
       "  </thead>\n",
       "  <tbody>\n",
       "    <tr>\n",
       "      <th>0</th>\n",
       "      <td>16.99</td>\n",
       "      <td>1.01</td>\n",
       "      <td>Female</td>\n",
       "      <td>No</td>\n",
       "      <td>Sun</td>\n",
       "      <td>Dinner</td>\n",
       "      <td>2</td>\n",
       "    </tr>\n",
       "    <tr>\n",
       "      <th>1</th>\n",
       "      <td>10.34</td>\n",
       "      <td>1.66</td>\n",
       "      <td>Male</td>\n",
       "      <td>No</td>\n",
       "      <td>Sun</td>\n",
       "      <td>Dinner</td>\n",
       "      <td>3</td>\n",
       "    </tr>\n",
       "    <tr>\n",
       "      <th>2</th>\n",
       "      <td>21.01</td>\n",
       "      <td>3.50</td>\n",
       "      <td>Male</td>\n",
       "      <td>No</td>\n",
       "      <td>Sun</td>\n",
       "      <td>Dinner</td>\n",
       "      <td>3</td>\n",
       "    </tr>\n",
       "    <tr>\n",
       "      <th>3</th>\n",
       "      <td>23.68</td>\n",
       "      <td>3.31</td>\n",
       "      <td>Male</td>\n",
       "      <td>No</td>\n",
       "      <td>Sun</td>\n",
       "      <td>Dinner</td>\n",
       "      <td>2</td>\n",
       "    </tr>\n",
       "    <tr>\n",
       "      <th>4</th>\n",
       "      <td>24.59</td>\n",
       "      <td>3.61</td>\n",
       "      <td>Female</td>\n",
       "      <td>No</td>\n",
       "      <td>Sun</td>\n",
       "      <td>Dinner</td>\n",
       "      <td>4</td>\n",
       "    </tr>\n",
       "    <tr>\n",
       "      <th>...</th>\n",
       "      <td>...</td>\n",
       "      <td>...</td>\n",
       "      <td>...</td>\n",
       "      <td>...</td>\n",
       "      <td>...</td>\n",
       "      <td>...</td>\n",
       "      <td>...</td>\n",
       "    </tr>\n",
       "    <tr>\n",
       "      <th>239</th>\n",
       "      <td>29.03</td>\n",
       "      <td>5.92</td>\n",
       "      <td>Male</td>\n",
       "      <td>No</td>\n",
       "      <td>Sat</td>\n",
       "      <td>Dinner</td>\n",
       "      <td>3</td>\n",
       "    </tr>\n",
       "    <tr>\n",
       "      <th>240</th>\n",
       "      <td>27.18</td>\n",
       "      <td>2.00</td>\n",
       "      <td>Female</td>\n",
       "      <td>Yes</td>\n",
       "      <td>Sat</td>\n",
       "      <td>Dinner</td>\n",
       "      <td>2</td>\n",
       "    </tr>\n",
       "    <tr>\n",
       "      <th>241</th>\n",
       "      <td>22.67</td>\n",
       "      <td>2.00</td>\n",
       "      <td>Male</td>\n",
       "      <td>Yes</td>\n",
       "      <td>Sat</td>\n",
       "      <td>Dinner</td>\n",
       "      <td>2</td>\n",
       "    </tr>\n",
       "    <tr>\n",
       "      <th>242</th>\n",
       "      <td>17.82</td>\n",
       "      <td>1.75</td>\n",
       "      <td>Male</td>\n",
       "      <td>No</td>\n",
       "      <td>Sat</td>\n",
       "      <td>Dinner</td>\n",
       "      <td>2</td>\n",
       "    </tr>\n",
       "    <tr>\n",
       "      <th>243</th>\n",
       "      <td>18.78</td>\n",
       "      <td>3.00</td>\n",
       "      <td>Female</td>\n",
       "      <td>No</td>\n",
       "      <td>Thur</td>\n",
       "      <td>Dinner</td>\n",
       "      <td>2</td>\n",
       "    </tr>\n",
       "  </tbody>\n",
       "</table>\n",
       "<p>244 rows × 7 columns</p>\n",
       "</div>"
      ],
      "text/plain": [
       "     total_bill   tip     sex smoker   day    time  size\n",
       "0         16.99  1.01  Female     No   Sun  Dinner     2\n",
       "1         10.34  1.66    Male     No   Sun  Dinner     3\n",
       "2         21.01  3.50    Male     No   Sun  Dinner     3\n",
       "3         23.68  3.31    Male     No   Sun  Dinner     2\n",
       "4         24.59  3.61  Female     No   Sun  Dinner     4\n",
       "..          ...   ...     ...    ...   ...     ...   ...\n",
       "239       29.03  5.92    Male     No   Sat  Dinner     3\n",
       "240       27.18  2.00  Female    Yes   Sat  Dinner     2\n",
       "241       22.67  2.00    Male    Yes   Sat  Dinner     2\n",
       "242       17.82  1.75    Male     No   Sat  Dinner     2\n",
       "243       18.78  3.00  Female     No  Thur  Dinner     2\n",
       "\n",
       "[244 rows x 7 columns]"
      ]
     },
     "execution_count": 11,
     "metadata": {},
     "output_type": "execute_result"
    }
   ],
   "source": [
    "tipData = sns.load_dataset(\"tips\")\n",
    "tipData"
   ]
  },
  {
   "cell_type": "markdown",
   "id": "bc6be6e4",
   "metadata": {},
   "source": [
    "**a) Compare average tips paid by smoker and non-smokers on weekdays and weekends individually using bar plot.**"
   ]
  },
  {
   "cell_type": "code",
   "execution_count": 12,
   "id": "1a0e66e9",
   "metadata": {},
   "outputs": [
    {
     "data": {
      "text/plain": [
       "Index([False, True], dtype='bool', name='Weekend')"
      ]
     },
     "execution_count": 12,
     "metadata": {},
     "output_type": "execute_result"
    }
   ],
   "source": [
    "weekend = lambda x: True if x in [\"Sun\", \"Sat\"] else False\n",
    "tipData[\"Weekend\"] = tipData[\"day\"].apply(weekend)\n",
    "result = tipData.groupby([\"smoker\", \"Weekend\"]).mean(\"Average Tip\")[\"tip\"]\n",
    "result.get(\"Yes\").keys()"
   ]
  },
  {
   "cell_type": "code",
   "execution_count": 13,
   "id": "527877da",
   "metadata": {},
   "outputs": [
    {
     "data": {
      "image/png": "[encoded data removed]",
      "text/plain": [
       "<Figure size 640x480 with 1 Axes>"
      ]
     },
     "metadata": {},
     "output_type": "display_data"
    }
   ],
   "source": [
    "plt.bar(np.arange(len(result.get(\"Yes\"))) - 0.05, list(result.get(\"Yes\")), label = \"Smoker\", width = 0.1)\n",
    "plt.bar(np.arange(len(result.get(\"No\"))) + 0.05, list(result.get(\"No\")), label = \"Non-Smoker\", width = 0.1)\n",
    "plt.title(\"Average tips Smokers vs Non-Smokers\")\n",
    "plt.ylabel(\"Tips in $\")\n",
    "plt.xticks(np.arange(len(result.get(\"No\"))), [\"Weekdays\" , \"Weekends\"])\n",
    "plt.legend()\n",
    "plt.show()"
   ]
  },
  {
   "cell_type": "markdown",
   "id": "6adef945",
   "metadata": {},
   "source": [
    "**b) Compare the distribution of bill amount of bills paid on weekday and week end.**"
   ]
  },
  {
   "cell_type": "code",
   "execution_count": 14,
   "id": "dcf4b965",
   "metadata": {},
   "outputs": [
    {
     "data": {
      "image/png": "[encoded data removed]",
      "text/plain": [
       "<Figure size 640x480 with 1 Axes>"
      ]
     },
     "metadata": {},
     "output_type": "display_data"
    }
   ],
   "source": [
    "result = tipData.groupby([\"Weekend\"]).sum(\"Total Bill\")[\"total_bill\"]\n",
    "plt.pie(result.values, labels = [\"Weekday\", \"Weekend\"], explode = [0.05, 0])   #incomplete\n",
    "plt.title(\"Total bill Weekday vs Weekend\")\n",
    "plt.legend()\n",
    "plt.show()"
   ]
  },
  {
   "cell_type": "markdown",
   "id": "640c89e4",
   "metadata": {},
   "source": [
    "**c) Identify outlier in the bill amount of females customers (explicitly mention the formula used to detect outliers) and show using appropriate plot.**"
   ]
  },
  {
   "cell_type": "code",
   "execution_count": 15,
   "id": "ebe0c775",
   "metadata": {},
   "outputs": [
    {
     "data": {
      "text/plain": [
       "{'whiskers': [<matplotlib.lines.Line2D at 0x7fb518e26b60>,\n",
       "  <matplotlib.lines.Line2D at 0x7fb518e26e00>],\n",
       " 'caps': [<matplotlib.lines.Line2D at 0x7fb518e270a0>,\n",
       "  <matplotlib.lines.Line2D at 0x7fb518e27340>],\n",
       " 'boxes': [<matplotlib.lines.Line2D at 0x7fb518e268c0>],\n",
       " 'medians': [<matplotlib.lines.Line2D at 0x7fb518e275e0>],\n",
       " 'fliers': [<matplotlib.lines.Line2D at 0x7fb518e27880>],\n",
       " 'means': []}"
      ]
     },
     "execution_count": 15,
     "metadata": {},
     "output_type": "execute_result"
    },
    {
     "data": {
      "image/png": "[encoded data removed]",
      "text/plain": [
       "<Figure size 1000x700 with 1 Axes>"
      ]
     },
     "metadata": {},
     "output_type": "display_data"
    }
   ],
   "source": [
    "result = tipData[tipData[\"sex\"] == \"Female\"][\"total_bill\"]\n",
    "fig = plt.figure(figsize =(10, 7))\n",
    "plt.boxplot(result)"
   ]
  },
  {
   "cell_type": "code",
   "execution_count": 22,
   "id": "eae7567a",
   "metadata": {},
   "outputs": [
    {
     "name": "stdout",
     "output_type": "stream",
     "text": [
      "Q1 =  12.75 \n",
      "Q2 =  16.4 \n",
      "Q3 =  21.520000000000003\n"
     ]
    }
   ],
   "source": [
    "result_df = result.to_frame(name = \"total_bill\")\n",
    "Q1 = result_df[\"total_bill\"].quantile(0.25)\n",
    "Q2 = result_df[\"total_bill\"].quantile(0.5)\n",
    "Q3 = result_df[\"total_bill\"].quantile(0.75)\n",
    "print(\"Q1 = \", Q1, \"\\nQ2 = \", Q2, \"\\nQ3 = \", Q3)"
   ]
  },
  {
   "cell_type": "code",
   "execution_count": 24,
   "id": "a381565f",
   "metadata": {},
   "outputs": [],
   "source": [
    "IQR = (Q3 - Q1)\n",
    "val_low = Q1 - 1.5*IQR\n",
    "val_up = Q3 + 1.5*IQR            #calculating upper and lower outliners "
   ]
  },
  {
   "cell_type": "markdown",
   "id": "8a633e92",
   "metadata": {},
   "source": [
    "**Finding outliners**"
   ]
  },
  {
   "cell_type": "code",
   "execution_count": 25,
   "id": "b0889a4d",
   "metadata": {},
   "outputs": [
    {
     "data": {
      "text/html": [
       "<div>\n",
       "<style scoped>\n",
       "    .dataframe tbody tr th:only-of-type {\n",
       "        vertical-align: middle;\n",
       "    }\n",
       "\n",
       "    .dataframe tbody tr th {\n",
       "        vertical-align: top;\n",
       "    }\n",
       "\n",
       "    .dataframe thead th {\n",
       "        text-align: right;\n",
       "    }\n",
       "</style>\n",
       "<table border=\"1\" class=\"dataframe\">\n",
       "  <thead>\n",
       "    <tr style=\"text-align: right;\">\n",
       "      <th></th>\n",
       "      <th>total_bill</th>\n",
       "    </tr>\n",
       "  </thead>\n",
       "  <tbody>\n",
       "    <tr>\n",
       "      <th>11</th>\n",
       "      <td>35.26</td>\n",
       "    </tr>\n",
       "    <tr>\n",
       "      <th>52</th>\n",
       "      <td>34.81</td>\n",
       "    </tr>\n",
       "    <tr>\n",
       "      <th>85</th>\n",
       "      <td>34.83</td>\n",
       "    </tr>\n",
       "    <tr>\n",
       "      <th>102</th>\n",
       "      <td>44.30</td>\n",
       "    </tr>\n",
       "    <tr>\n",
       "      <th>197</th>\n",
       "      <td>43.11</td>\n",
       "    </tr>\n",
       "    <tr>\n",
       "      <th>238</th>\n",
       "      <td>35.83</td>\n",
       "    </tr>\n",
       "  </tbody>\n",
       "</table>\n",
       "</div>"
      ],
      "text/plain": [
       "     total_bill\n",
       "11        35.26\n",
       "52        34.81\n",
       "85        34.83\n",
       "102       44.30\n",
       "197       43.11\n",
       "238       35.83"
      ]
     },
     "execution_count": 25,
     "metadata": {},
     "output_type": "execute_result"
    }
   ],
   "source": [
    "result_df[(result_df[\"total_bill\"] > val_up)|(result_df[\"total_bill\"] < val_low)]"
   ]
  },
  {
   "cell_type": "markdown",
   "id": "4ad0934e",
   "metadata": {},
   "source": [
    "**d) Find the size of customers who have paid maximum tip on weekend.**"
   ]
  },
  {
   "cell_type": "code",
   "execution_count": 16,
   "id": "280e70c4",
   "metadata": {},
   "outputs": [
    {
     "name": "stdout",
     "output_type": "stream",
     "text": [
      "Customer with maximum tip on the weekend :: 3\n"
     ]
    }
   ],
   "source": [
    "print(\"Customer with maximum tip on the weekend ::\" , tipData.loc[tipData[tipData[\"Weekend\"] == True][[\"tip\", \"size\"]].idxmax()[\"tip\"], \"size\"])"
   ]
  },
  {
   "cell_type": "markdown",
   "id": "bb598659",
   "metadata": {},
   "source": [
    "**e) Compare the average amount of bill paid by females and males customers on all days (using line plot, xaxis has four tics corresponding to day).**"
   ]
  },
  {
   "cell_type": "code",
   "execution_count": 17,
   "id": "19423d51",
   "metadata": {},
   "outputs": [],
   "source": [
    "male = tipData.groupby([\"sex\", \"day\"]).mean(\"Average_Bill\")[\"total_bill\"][\"Male\"]\n",
    "female = tipData.groupby([\"sex\", \"day\"]).mean(\"Average_Bill\")[\"total_bill\"][\"Female\"]"
   ]
  },
  {
   "cell_type": "code",
   "execution_count": 18,
   "id": "de865930",
   "metadata": {},
   "outputs": [
    {
     "data": {
      "image/png": "[encoded data removed]",
      "text/plain": [
       "<Figure size 640x480 with 1 Axes>"
      ]
     },
     "metadata": {},
     "output_type": "display_data"
    }
   ],
   "source": [
    "plt.plot(male.keys(), male.values, label = \"Male\")\n",
    "plt.plot(female.keys(), female.values, label = \"Female\", color = \"pink\")\n",
    "plt.title(\"Average Bill Male VS Female\")\n",
    "plt.xlabel(\"Days\")\n",
    "plt.ylabel(\"Average Bill\")\n",
    "plt.legend()\n",
    "plt.show()"
   ]
  }
 ],
 "metadata": {
  "kernelspec": {
   "display_name": "Python 3 (ipykernel)",
   "language": "python",
   "name": "python3"
  },
  "language_info": {
   "codemirror_mode": {
    "name": "ipython",
    "version": 3
   },
   "file_extension": ".py",
   "mimetype": "text/x-python",
   "name": "python",
   "nbconvert_exporter": "python",
   "pygments_lexer": "ipython3",
   "version": "3.10.6"
  }
 },
 "nbformat": 4,
 "nbformat_minor": 5
}
